{
  "nbformat": 4,
  "nbformat_minor": 0,
  "metadata": {
    "colab": {
      "name": "01_ApresentacaoDaBiblioteca.ipynb",
      "provenance": [],
      "authorship_tag": "ABX9TyPyP7D209gO8or5MnRlauRg",
      "include_colab_link": true
    },
    "kernelspec": {
      "name": "python3",
      "display_name": "Python 3"
    },
    "language_info": {
      "name": "python"
    }
  },
  "cells": [
    {
      "cell_type": "markdown",
      "metadata": {
        "id": "view-in-github",
        "colab_type": "text"
      },
      "source": [
        "<a href=\"https://colab.research.google.com/github/adolfoguimaraes/teoriadosgrafos/blob/main/01_ApresentacaoDaBiblioteca.ipynb\" target=\"_parent\"><img src=\"https://colab.research.google.com/assets/colab-badge.svg\" alt=\"Open In Colab\"/></a>"
      ]
    },
    {
      "cell_type": "markdown",
      "metadata": {
        "id": "YqsUQgXAbnrP"
      },
      "source": [
        "# Apresentação da Biblioteca\n",
        "\n",
        "As implementações das disciplinas serão realizadas utilizando a biblioteca [NetworkX](https://networkx.org/). NetworkX é um pacote Python para a criação, manipulação e estudo da estrutura, dinâmica e funções de redes complexas.\n",
        "\n"
      ]
    },
    {
      "cell_type": "code",
      "metadata": {
        "id": "svWIgQZUbgHF"
      },
      "source": [
        "# importando a biblioteca \n",
        "\n",
        "import networkx as nx\n",
        "\n",
        "# importação da biblioteca para plotagem de gráficos \n",
        "import matplotlib.pyplot as plt "
      ],
      "execution_count": 3,
      "outputs": []
    },
    {
      "cell_type": "code",
      "metadata": {
        "id": "JjxwO6XJcfVD"
      },
      "source": [
        "# Função em Python para facilitar a impressão do Grafo. \n",
        "\n",
        "def exibir_grafo(grafo):\n",
        "  plt.figure(2)\n",
        "  nx.draw_networkx(grafo, pos=nx.spring_layout(grafo), with_labels=True)\n",
        "  plt.show()"
      ],
      "execution_count": 4,
      "outputs": []
    },
    {
      "cell_type": "code",
      "metadata": {
        "id": "b0kbdej3cSDO"
      },
      "source": [
        "\n",
        "# Instanciando o objeto Grafo\n",
        "G = nx.Graph()\n",
        "\n",
        "# Adicionando os Vértices\n",
        "G.add_node(\"v1\")\n",
        "G.add_node(\"v2\")\n",
        "G.add_node(\"v3\")\n",
        "G.add_node(\"v4\")\n",
        "G.add_node(\"v5\")\n",
        "\n"
      ],
      "execution_count": 5,
      "outputs": []
    },
    {
      "cell_type": "code",
      "metadata": {
        "colab": {
          "base_uri": "https://localhost:8080/",
          "height": 248
        },
        "id": "FMmBK8Ccc5OO",
        "outputId": "4f417544-0748-4e25-c637-68819cb010e3"
      },
      "source": [
        "exibir_grafo(G)"
      ],
      "execution_count": 6,
      "outputs": [
        {
          "output_type": "display_data",
          "data": {
            "image/png": "[encoded data removed]",
            "text/plain": [
              "<Figure size 432x288 with 1 Axes>"
            ]
          },
          "metadata": {}
        }
      ]
    },
    {
      "cell_type": "markdown",
      "metadata": {
        "id": "fJl3AUguc8-T"
      },
      "source": [
        "Vamos adicionar algumas arestas."
      ]
    },
    {
      "cell_type": "code",
      "metadata": {
        "id": "WxYwyvnNc3vM"
      },
      "source": [
        "# Adicionando as Arestas\n",
        "\n",
        "G.add_edge(\"v1\",\"v2\")\n",
        "G.add_edge(\"v2\",\"v3\")\n",
        "G.add_edge(\"v3\",\"v4\")\n",
        "G.add_edge(\"v4\",\"v5\")\n",
        "G.add_edge(\"v5\",\"v1\")\n",
        "G.add_edge(\"v2\",\"v4\")"
      ],
      "execution_count": 7,
      "outputs": []
    },
    {
      "cell_type": "code",
      "metadata": {
        "colab": {
          "base_uri": "https://localhost:8080/",
          "height": 248
        },
        "id": "ycfzWa38c__Y",
        "outputId": "d04714c5-3f05-44b6-d2d4-1d85d96f9418"
      },
      "source": [
        "exibir_grafo(G)"
      ],
      "execution_count": 8,
      "outputs": [
        {
          "output_type": "display_data",
          "data": {
            "image/png": "[encoded data removed]",
            "text/plain": [
              "<Figure size 432x288 with 1 Axes>"
            ]
          },
          "metadata": {}
        }
      ]
    },
    {
      "cell_type": "code",
      "metadata": {
        "id": "eqswSFSddBUB"
      },
      "source": [
        ""
      ],
      "execution_count": null,
      "outputs": []
    }
  ]
}