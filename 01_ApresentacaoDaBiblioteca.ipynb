{
  "nbformat": 4,
  "nbformat_minor": 0,
  "metadata": {
    "colab": {
      "name": "01_ApresentacaoDaBiblioteca.ipynb",
      "provenance": [],
      "authorship_tag": "ABX9TyNpYLeRBbVlM4Mm5lhpam67",
      "include_colab_link": true
    },
    "kernelspec": {
      "name": "python3",
      "display_name": "Python 3"
    },
    "language_info": {
      "name": "python"
    }
  },
  "cells": [
    {
      "cell_type": "markdown",
      "metadata": {
        "id": "view-in-github",
        "colab_type": "text"
      },
      "source": [
        "<a href=\"https://colab.research.google.com/github/adolfoguimaraes/teoriadosgrafos/blob/main/01_ApresentacaoDaBiblioteca.ipynb\" target=\"_parent\"><img src=\"https://colab.research.google.com/assets/colab-badge.svg\" alt=\"Open In Colab\"/></a>"
      ]
    },
    {
      "cell_type": "markdown",
      "metadata": {
        "id": "YqsUQgXAbnrP"
      },
      "source": [
        "# Apresentação da Biblioteca\n",
        "\n",
        "As implementações das disciplinas serão realizadas utilizando a biblioteca [NetworkX](https://networkx.org/). NetworkX é um pacote Python para a criação, manipulação e estudo da estrutura, dinâmica e funções de redes complexas.\n",
        "\n"
      ]
    },
    {
      "cell_type": "code",
      "metadata": {
        "id": "svWIgQZUbgHF"
      },
      "source": [
        "# importando a biblioteca \n",
        "\n",
        "import networkx as nx\n",
        "\n",
        "# importação da biblioteca para plotagem de gráficos \n",
        "import matplotlib.pyplot as plt "
      ],
      "execution_count": 3,
      "outputs": []
    },
    {
      "cell_type": "code",
      "metadata": {
        "id": "JjxwO6XJcfVD"
      },
      "source": [
        "# Função em Python para facilitar a impressão do Grafo. \n",
        "\n",
        "def exibir_grafo(grafo):\n",
        "  plt.figure(2)\n",
        "  nx.draw_networkx(grafo, pos=nx.spring_layout(grafo), with_labels=True)\n",
        "  plt.show()"
      ],
      "execution_count": 4,
      "outputs": []
    },
    {
      "cell_type": "code",
      "metadata": {
        "id": "b0kbdej3cSDO"
      },
      "source": [
        "\n",
        "# Instanciando o objeto Grafo\n",
        "G = nx.Graph()\n",
        "\n",
        "# Adicionando os Vértices\n",
        "G.add_node(\"v1\")\n",
        "G.add_node(\"v2\")\n",
        "G.add_node(\"v3\")\n",
        "G.add_node(\"v4\")\n",
        "G.add_node(\"v5\")\n",
        "\n"
      ],
      "execution_count": 13,
      "outputs": []
    },
    {
      "cell_type": "code",
      "metadata": {
        "colab": {
          "base_uri": "https://localhost:8080/",
          "height": 248
        },
        "id": "FMmBK8Ccc5OO",
        "outputId": "ab3416da-b024-4be9-cc06-87aa71db2275"
      },
      "source": [
        "exibir_grafo(G)"
      ],
      "execution_count": 14,
      "outputs": [
        {
          "output_type": "display_data",
          "data": {
            "image/png": "[encoded data removed]",
            "text/plain": [
              "<Figure size 432x288 with 1 Axes>"
            ]
          },
          "metadata": {}
        }
      ]
    },
    {
      "cell_type": "markdown",
      "metadata": {
        "id": "fJl3AUguc8-T"
      },
      "source": [
        "Vamos adicionar algumas arestas."
      ]
    },
    {
      "cell_type": "code",
      "metadata": {
        "id": "WxYwyvnNc3vM"
      },
      "source": [
        "# Adicionando as Arestas\n",
        "\n",
        "G.add_edge(\"v1\",\"v2\")\n",
        "G.add_edge(\"v2\",\"v3\")\n",
        "G.add_edge(\"v3\",\"v4\")\n",
        "G.add_edge(\"v4\",\"v5\")\n",
        "G.add_edge(\"v5\",\"v1\")\n",
        "G.add_edge(\"v2\",\"v4\")"
      ],
      "execution_count": 15,
      "outputs": []
    },
    {
      "cell_type": "code",
      "metadata": {
        "colab": {
          "base_uri": "https://localhost:8080/",
          "height": 248
        },
        "id": "ycfzWa38c__Y",
        "outputId": "1ebc5a87-fed1-4f74-e78e-335f165de60b"
      },
      "source": [
        "exibir_grafo(G)"
      ],
      "execution_count": 16,
      "outputs": [
        {
          "output_type": "display_data",
          "data": {
            "image/png": "[encoded data removed]",
            "text/plain": [
              "<Figure size 432x288 with 1 Axes>"
            ]
          },
          "metadata": {}
        }
      ]
    },
    {
      "cell_type": "markdown",
      "metadata": {
        "id": "FaKSUtRpdZS0"
      },
      "source": [
        "Vamos ver alguns métodos básicos disponibilizados pela biblioteca. "
      ]
    },
    {
      "cell_type": "code",
      "metadata": {
        "id": "eqswSFSddBUB"
      },
      "source": [
        "# Podemos adicionar vários nós ao mesmo tempo\n",
        "\n",
        "G.add_nodes_from([\"v6\",\"v7\"])"
      ],
      "execution_count": 17,
      "outputs": []
    },
    {
      "cell_type": "code",
      "metadata": {
        "colab": {
          "base_uri": "https://localhost:8080/",
          "height": 248
        },
        "id": "8OkRhljmigTy",
        "outputId": "80f29efc-125a-4f68-d47f-4774f5fb97e7"
      },
      "source": [
        "exibir_grafo(G)"
      ],
      "execution_count": 18,
      "outputs": [
        {
          "output_type": "display_data",
          "data": {
            "image/png": "[encoded data removed]",
            "text/plain": [
              "<Figure size 432x288 with 1 Axes>"
            ]
          },
          "metadata": {}
        }
      ]
    },
    {
      "cell_type": "code",
      "metadata": {
        "id": "WPLLXIcUihnX"
      },
      "source": [
        "# Ou várias arestas ao mesmo tempo\n",
        "\n",
        "G.add_edges_from([(\"v6\", \"v7\"), (\"v6\",\"v5\")])"
      ],
      "execution_count": 19,
      "outputs": []
    },
    {
      "cell_type": "code",
      "metadata": {
        "colab": {
          "base_uri": "https://localhost:8080/",
          "height": 248
        },
        "id": "18Rvv_J0iov3",
        "outputId": "f4b5acfa-94c8-44ce-8258-7a2fbb9662f7"
      },
      "source": [
        "exibir_grafo(G)"
      ],
      "execution_count": 20,
      "outputs": [
        {
          "output_type": "display_data",
          "data": {
            "image/png": "[encoded data removed]",
            "text/plain": [
              "<Figure size 432x288 with 1 Axes>"
            ]
          },
          "metadata": {}
        }
      ]
    },
    {
      "cell_type": "code",
      "metadata": {
        "colab": {
          "base_uri": "https://localhost:8080/"
        },
        "id": "5VTP8GtniqNh",
        "outputId": "e0138fdd-2c8a-4f8e-b6fe-d27a6a2b9c0c"
      },
      "source": [
        "# Imprimindo o número de nós e vértices\n",
        "\n",
        "print(\"Número de nós: %i\" % G.number_of_nodes())\n",
        "print(\"Número de vértices: %i\" % G.number_of_edges())"
      ],
      "execution_count": 21,
      "outputs": [
        {
          "output_type": "stream",
          "text": [
            "Número de nós: 7\n",
            "Número de vértices: 8\n"
          ],
          "name": "stdout"
        }
      ]
    },
    {
      "cell_type": "code",
      "metadata": {
        "colab": {
          "base_uri": "https://localhost:8080/"
        },
        "id": "XwcDXpiPjZjL",
        "outputId": "b6720e88-a9aa-48d6-f317-15fef9cd5162"
      },
      "source": [
        "# Exibir a lista de vértices\n",
        "\n",
        "print(list(G.edges))"
      ],
      "execution_count": 22,
      "outputs": [
        {
          "output_type": "stream",
          "text": [
            "[('v1', 'v2'), ('v1', 'v5'), ('v2', 'v3'), ('v2', 'v4'), ('v3', 'v4'), ('v4', 'v5'), ('v5', 'v6'), ('v6', 'v7')]\n"
          ],
          "name": "stdout"
        }
      ]
    },
    {
      "cell_type": "code",
      "metadata": {
        "colab": {
          "base_uri": "https://localhost:8080/"
        },
        "id": "63Rozlx8jpCU",
        "outputId": "5eafe928-fec2-4305-c84a-b83fd9d71898"
      },
      "source": [
        "# Exibir a lista de nós\n",
        "print(list(G.nodes))"
      ],
      "execution_count": 23,
      "outputs": [
        {
          "output_type": "stream",
          "text": [
            "['v1', 'v2', 'v3', 'v4', 'v5', 'v6', 'v7']\n"
          ],
          "name": "stdout"
        }
      ]
    },
    {
      "cell_type": "code",
      "metadata": {
        "colab": {
          "base_uri": "https://localhost:8080/"
        },
        "id": "VDH5j9Ufjsy-",
        "outputId": "67fa68f7-e3c0-428d-8348-48df3544272c"
      },
      "source": [
        "# Adjacentes de um vértices\n",
        "\n",
        "print(list(G.neighbors('v1')))"
      ],
      "execution_count": 26,
      "outputs": [
        {
          "output_type": "stream",
          "text": [
            "['v2', 'v5']\n"
          ],
          "name": "stdout"
        }
      ]
    },
    {
      "cell_type": "code",
      "metadata": {
        "colab": {
          "base_uri": "https://localhost:8080/"
        },
        "id": "InNpRScCj1hD",
        "outputId": "6e630917-b3e2-47ef-d311-ff2322d76ed0"
      },
      "source": [
        "# imprimindo os adjacentes de todos os vértices\n",
        "\n",
        "for vertice in list(G.nodes):\n",
        "  print(\"Adjacentes do vértice %s: %s\" % (vertice, list(G.neighbors(vertice))))"
      ],
      "execution_count": 27,
      "outputs": [
        {
          "output_type": "stream",
          "text": [
            "Adjacentes do vértice v1: ['v2', 'v5']\n",
            "Adjacentes do vértice v2: ['v1', 'v3', 'v4']\n",
            "Adjacentes do vértice v3: ['v2', 'v4']\n",
            "Adjacentes do vértice v4: ['v3', 'v5', 'v2']\n",
            "Adjacentes do vértice v5: ['v4', 'v1', 'v6']\n",
            "Adjacentes do vértice v6: ['v7', 'v5']\n",
            "Adjacentes do vértice v7: ['v6']\n"
          ],
          "name": "stdout"
        }
      ]
    },
    {
      "cell_type": "markdown",
      "metadata": {
        "id": "itbitqQ-kTbl"
      },
      "source": [
        "Esse material foi só para mostrar alguns métodos que serão úteis para as próximas atividades práticas da disciplina."
      ]
    }
  ]
}