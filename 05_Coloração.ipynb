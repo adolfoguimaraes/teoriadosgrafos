{
  "nbformat": 4,
  "nbformat_minor": 0,
  "metadata": {
    "colab": {
      "name": "05 - Coloração.ipynb",
      "provenance": [],
      "collapsed_sections": [],
      "authorship_tag": "ABX9TyMDGkbPncMsEbGH+jCU40vV",
      "include_colab_link": true
    },
    "kernelspec": {
      "name": "python3",
      "display_name": "Python 3"
    },
    "language_info": {
      "name": "python"
    }
  },
  "cells": [
    {
      "cell_type": "markdown",
      "metadata": {
        "id": "view-in-github",
        "colab_type": "text"
      },
      "source": [
        "<a href=\"https://colab.research.google.com/github/adolfoguimaraes/teoriadosgrafos/blob/main/05_Colora%C3%A7%C3%A3o.ipynb\" target=\"_parent\"><img src=\"https://colab.research.google.com/assets/colab-badge.svg\" alt=\"Open In Colab\"/></a>"
      ]
    },
    {
      "cell_type": "markdown",
      "metadata": {
        "id": "meGB0SGM1rvq"
      },
      "source": [
        "# Coloração\n",
        "\n",
        "![](https://media.giphy.com/media/FE0WTM8BG754I/giphy.gif)\n",
        "\n",
        "Na última aula trabalhamos com uma técnica de grafos chamada de **Coloração**. A coloração consiste em colorir um conjunto de vértices de forma que os vértices adjacentes não tenham a mesma cor. Essa abstração de cores pode ser aplicada a diferentes cenários. \n",
        "\n",
        "Vamos implementar um dos algoritmos de coloração vistos em sala de aula. Preparados?\n",
        "\n",
        "![](https://media.giphy.com/media/CjmvTCZf2U3p09Cn0h/giphy.gif)\n"
      ]
    },
    {
      "cell_type": "markdown",
      "metadata": {
        "id": "7mxyDhSzST2F"
      },
      "source": [
        "## Imports e Métodos auxiliares"
      ]
    },
    {
      "cell_type": "code",
      "metadata": {
        "id": "QeDHuVsY1DRV"
      },
      "source": [
        "\n",
        "# importando a biblioteca \n",
        "\n",
        "import networkx as nx\n",
        "import math\n",
        "\n",
        "# importação da biblioteca para plotagem de gráficos \n",
        "import matplotlib.pyplot as plt"
      ],
      "execution_count": null,
      "outputs": []
    },
    {
      "cell_type": "code",
      "metadata": {
        "id": "wpvBVdeP31Lj"
      },
      "source": [
        "# Função em Python para facilitar a impressão do Grafo. \n",
        "\n",
        "def exibir_grafo(grafo, labels=False, node_size=600, fig_size=(10,7), node_color='#0080FF'):\n",
        "\n",
        "  \n",
        "  options = {\n",
        "      'node_color': node_color,\n",
        "      'edge_color': '#808080',\n",
        "      'node_size': node_size,\n",
        "      'width': 2,\n",
        "      'font_color': 'white',\n",
        "      'font_weight': 'bold',\n",
        "      'font_size': 10\n",
        "\n",
        "  }\n",
        "  plt.figure(1)\n",
        "  plt.figure(figsize=fig_size)\n",
        "  \n",
        "  nx.draw_networkx(\n",
        "      grafo, \n",
        "      pos=nx.spring_layout(grafo), \n",
        "      with_labels=True,\n",
        "      **options\n",
        "  )\n",
        "\n",
        "  \n",
        "  plt.show()"
      ],
      "execution_count": null,
      "outputs": []
    },
    {
      "cell_type": "markdown",
      "metadata": {
        "id": "OBDwNn7vSYOg"
      },
      "source": [
        "## Grafos de Exemplo\n",
        "\n",
        "Vamos utilizar dois grafos dos slides como grafos de exemplos. "
      ]
    },
    {
      "cell_type": "code",
      "metadata": {
        "colab": {
          "base_uri": "https://localhost:8080/"
        },
        "id": "pByVKOy237Po",
        "outputId": "c984e48e-0518-4ce7-f896-7a303ea959c7"
      },
      "source": [
        "# Instanciando o objeto Grafo\n",
        "G = nx.Graph()\n",
        "\n",
        "# Adicionando os Vértices\n",
        "G.add_nodes_from(['a','b','c','d','e','f','g'])\n",
        "\n",
        "# Adicionando as Arestas\n",
        "G.add_edges_from([\n",
        "                  ('a','b'),('a','d'),\n",
        "                  ('b','c'),('b','d'),('b','e'),('b','f'),\n",
        "                  ('c','f'),\n",
        "                  ('d','e'),('d','g'),\n",
        "                  ('e','f'),('e','g'),\n",
        "                  ('f','g')\n",
        "                  ])\n",
        "                 \n",
        "\n",
        "exibir_grafo(G)"
      ],
      "execution_count": null,
      "outputs": [
        {
          "output_type": "display_data",
          "data": {
            "text/plain": [
              "<Figure size 432x288 with 0 Axes>"
            ]
          },
          "metadata": {}
        },
        {
          "output_type": "display_data",
          "data": {
            "image/png": "[encoded data removed]",
            "text/plain": [
              "<Figure size 720x504 with 1 Axes>"
            ]
          },
          "metadata": {}
        }
      ]
    },
    {
      "cell_type": "markdown",
      "metadata": {
        "id": "sS1nC5x08bxy"
      },
      "source": [
        "## Colorindo o Grafo\n",
        "\n",
        "Vamos resolver esse problema por partes. Vamos primeiro pensar no algoritmo que vimos em sala de aula e listar os passos necessários para implementa-lo.\n",
        "\n",
        "1. Calcular o grau de cada vértice;\n",
        "2. Ordenar os vértices de acordo com o grau;\n",
        "3. Escolher uma cor;\n",
        "4. Colorir o máximo de vértices possíveis com a cor escolhida. Sempre seguindo a ordem decrescente do grau dos vértices;\n",
        "4. Quando não for mais possível colorir nenhum vértice e ainda tiver vértices sem colorir, retorna para o passo 3.\n",
        "\n",
        "Perceba que o algoritmo é composto por poucas etapas, vamos implementa-las a seguir.\n",
        "\n",
        "![](https://media.giphy.com/media/lTRuG1F4VZ3LHMpXY2/giphy.gif)"
      ]
    },
    {
      "cell_type": "markdown",
      "metadata": {
        "id": "WCSkVEJPWj2Q"
      },
      "source": [
        "### Calculando o grau de cada vértice\n",
        "\n",
        "Para calcular o grau de cada vértice, vamos utilizar métodos da própria biblioteca NetworkX."
      ]
    },
    {
      "cell_type": "code",
      "metadata": {
        "id": "13wBkDAu4Dq9"
      },
      "source": [
        "# Método que retorna os centros do grafo\n",
        "def get_degree(node, graph):\n",
        "\n",
        "  return graph.degree[node]\n",
        "\n"
      ],
      "execution_count": null,
      "outputs": []
    },
    {
      "cell_type": "code",
      "metadata": {
        "colab": {
          "base_uri": "https://localhost:8080/"
        },
        "id": "85n848TqXIkw",
        "outputId": "50548e39-d321-42c3-ec69-8c7c4ea534e4"
      },
      "source": [
        "get_degree('b', G)"
      ],
      "execution_count": null,
      "outputs": [
        {
          "output_type": "execute_result",
          "data": {
            "text/plain": [
              "5"
            ]
          },
          "metadata": {},
          "execution_count": 152
        }
      ]
    },
    {
      "cell_type": "markdown",
      "metadata": {
        "id": "wM2c_lyEXUS2"
      },
      "source": [
        "### Ordenar os vértices de acordo com o grau\n",
        "\n",
        "Já temos nossa função que retorna o grau de cada vértice, vamos ordenar esses vértices de acordo com o grau."
      ]
    },
    {
      "cell_type": "code",
      "metadata": {
        "id": "DaCBWCNnYdNj"
      },
      "source": [
        "def get_ordered_nodes(graph):\n",
        "\n",
        "  dict_nodes = {}\n",
        "\n",
        "  for node in list(graph.nodes):\n",
        "    dict_nodes[node] = get_degree(node, graph)\n",
        "  \n",
        "\n",
        "  sorted_dict = dict(sorted(dict_nodes.items(), key=lambda kv: kv[1], reverse=True))\n",
        "\n",
        "\n",
        "  return list(sorted_dict.keys())\n"
      ],
      "execution_count": null,
      "outputs": []
    },
    {
      "cell_type": "code",
      "metadata": {
        "colab": {
          "base_uri": "https://localhost:8080/"
        },
        "id": "XXD9sximYnpi",
        "outputId": "94d9e984-8312-46f2-e2a4-152b69fcf324"
      },
      "source": [
        "get_ordered_nodes(G)"
      ],
      "execution_count": null,
      "outputs": [
        {
          "output_type": "execute_result",
          "data": {
            "text/plain": [
              "['b', 'd', 'e', 'f', 'g', 'a', 'c']"
            ]
          },
          "metadata": {},
          "execution_count": 154
        }
      ]
    },
    {
      "cell_type": "markdown",
      "metadata": {
        "id": "Wx-hrl8sZ_Af"
      },
      "source": [
        "### Escolher a cor e colorir o vértice\n"
      ]
    },
    {
      "cell_type": "code",
      "metadata": {
        "id": "ExOdpXTne-fr"
      },
      "source": [
        "def test_neighbors_color(node, colors, color, graph):\n",
        "\n",
        "  neigh_ = graph.neighbors(node)\n",
        "\n",
        "  for neigh in neigh_:\n",
        "\n",
        "    if neigh in colors.keys():\n",
        "      if color == colors[neigh]:\n",
        "        return True\n",
        "\n",
        "  return False\n",
        "\n"
      ],
      "execution_count": null,
      "outputs": []
    },
    {
      "cell_type": "code",
      "metadata": {
        "colab": {
          "base_uri": "https://localhost:8080/"
        },
        "id": "2nmTixPAZ-z7",
        "outputId": "2a84948c-e778-4d42-f61e-2f5757536614"
      },
      "source": [
        "# Associandos os vértices a cores\n",
        "\n",
        "colors = ['#e06666','#f9a650','#ffd966','#93c47d','#76a5af']\n",
        "ordered_nodes = get_ordered_nodes(G)\n",
        "\n",
        "pick_color = colors[0]\n",
        "colors_node = {}\n",
        "\n",
        "while len(ordered_nodes) > 0:\n",
        "  pick_nodes = []  \n",
        "  for node in ordered_nodes:\n",
        "    \n",
        "    if(not test_neighbors_color(node, colors_node, pick_color, G)):\n",
        "      \n",
        "      colors_node[node] = pick_color\n",
        "      pick_nodes.append(node)\n",
        "    \n",
        "  \n",
        "  ordered_nodes = [node for node in ordered_nodes if node not in pick_nodes]\n",
        "  colors.remove(pick_color)\n",
        "\n",
        "  if len(colors) > 0:\n",
        "    pick_color = colors[0]\n",
        "  else:\n",
        "    break\n",
        "\n",
        "print(colors_node)"
      ],
      "execution_count": null,
      "outputs": [
        {
          "output_type": "stream",
          "name": "stdout",
          "text": [
            "{'b': '#e06666', 'g': '#e06666', 'd': '#f9a650', 'f': '#f9a650', 'e': '#ffd966', 'a': '#ffd966', 'c': '#ffd966'}\n"
          ]
        }
      ]
    },
    {
      "cell_type": "code",
      "metadata": {
        "colab": {
          "base_uri": "https://localhost:8080/"
        },
        "id": "QGOBgoK4tas0",
        "outputId": "5853c8a4-7be9-4e2b-89a8-efb85abc5f06"
      },
      "source": [
        "temp_dict = dict(sorted(colors_node.items(), key=lambda kv: kv[0]))\n",
        "colors_ = list(temp_dict.values())\n",
        "colors_"
      ],
      "execution_count": null,
      "outputs": [
        {
          "output_type": "execute_result",
          "data": {
            "text/plain": [
              "['#ffd966', '#e06666', '#ffd966', '#f9a650', '#ffd966', '#f9a650', '#e06666']"
            ]
          },
          "metadata": {},
          "execution_count": 157
        }
      ]
    },
    {
      "cell_type": "code",
      "metadata": {
        "id": "IjN_ncfJ9rRh",
        "colab": {
          "base_uri": "https://localhost:8080/",
          "height": 428
        },
        "outputId": "a52f3664-be00-4b44-f00f-f966f94f9b67"
      },
      "source": [
        "exibir_grafo(G, node_color=colors_)"
      ],
      "execution_count": null,
      "outputs": [
        {
          "output_type": "display_data",
          "data": {
            "text/plain": [
              "<Figure size 432x288 with 0 Axes>"
            ]
          },
          "metadata": {}
        },
        {
          "output_type": "display_data",
          "data": {
            "image/png": "[encoded data removed]",
            "text/plain": [
              "<Figure size 720x504 with 1 Axes>"
            ]
          },
          "metadata": {}
        }
      ]
    },
    {
      "cell_type": "markdown",
      "metadata": {
        "id": "_p6bazYKvOPJ"
      },
      "source": [
        "### Criando um método de coloração \"Genérico\""
      ]
    },
    {
      "cell_type": "code",
      "metadata": {
        "id": "_dTU34ezvSIB"
      },
      "source": [
        "# Associandos os vértices a cores\n",
        "\n",
        "def apply_color(graph, colors):\n",
        "\n",
        "  ordered_nodes = get_ordered_nodes(graph)\n",
        "\n",
        "  pick_color = colors[0]\n",
        "  colors_node = {}\n",
        "\n",
        "  while len(ordered_nodes) > 0:\n",
        "    pick_nodes = []  \n",
        "    for node in ordered_nodes:\n",
        "      \n",
        "      if(not test_neighbors_color(node, colors_node, pick_color, graph)):\n",
        "        \n",
        "        colors_node[node] = pick_color\n",
        "        pick_nodes.append(node)\n",
        "      \n",
        "    \n",
        "    ordered_nodes = [node for node in ordered_nodes if node not in pick_nodes]\n",
        "    colors.remove(pick_color)\n",
        "    \n",
        "    if len(colors) > 0:\n",
        "      pick_color = colors[0]\n",
        "    else:\n",
        "      break\n",
        "\n",
        "  return colors_node"
      ],
      "execution_count": null,
      "outputs": []
    },
    {
      "cell_type": "code",
      "metadata": {
        "colab": {
          "base_uri": "https://localhost:8080/"
        },
        "id": "PmkOvo9Kvm4t",
        "outputId": "ceb2b33b-7a6d-4c46-f2c0-dad164b6e591"
      },
      "source": [
        "colors = ['P1','P2', 'P3', 'P4', 'P5', 'P6']\n",
        "apply_color(G, colors)"
      ],
      "execution_count": null,
      "outputs": [
        {
          "output_type": "execute_result",
          "data": {
            "text/plain": [
              "{'a': 'P3', 'b': 'P1', 'c': 'P3', 'd': 'P2', 'e': 'P3', 'f': 'P2', 'g': 'P1'}"
            ]
          },
          "metadata": {},
          "execution_count": 160
        }
      ]
    },
    {
      "cell_type": "markdown",
      "metadata": {
        "id": "7cZ991he9ylQ"
      },
      "source": [
        "## Aplicar em um problema\n",
        "\n",
        "![](https://media.giphy.com/media/4Hx5nJBfi8FzFWxztb/giphy.gif)\n",
        "\n",
        "Vamos trabalhar com os dois problemas vistos em sala de aula. O primeiro foi os das disciplinas e o segundo foi da viagem. Neste segundo, vamos precisar adapatar nosso algoritmo. \n"
      ]
    },
    {
      "cell_type": "markdown",
      "metadata": {
        "id": "eE7d250CHTSG"
      },
      "source": [
        "### Exemplo 1\n",
        "\n",
        "No primeiro exemplo, a gente mapeou a tabela de relação das disciplinas como um grafo. Vamos fazer novamente esse mapeamento e construir o grafo aqui. \n",
        "\n",
        "O problema visto foi o de alocação de disciplinas. O primeiro passo foi mapear para um grafo e em seguida identificar o que eram cores. Para isso, vamos considerar a seguinte distribuição das distribuição das disciplinas.\n",
        "\n",
        "| Código do Aluno | Disciplinas |\n",
        "|-----------------|-------------|\n",
        "| 1               | A, B        |\n",
        "| 2               | A, D        |\n",
        "| 3               | D, E, F     |\n",
        "| 4               | B, C        |\n",
        "| 5               | A, C        |\n",
        "| 6               | B, E        |\n",
        "| 7               | C, F        |\n",
        "| 8               | E, G        |\n",
        "\n",
        "\n",
        "Neste caso, as disciplinas vão ser os vértices e as arestas a relação de que pelo menos um aluno está cursando aquela disciplina. \n",
        "\n",
        "Vamos construir o grafo.\n",
        "\n"
      ]
    },
    {
      "cell_type": "code",
      "metadata": {
        "colab": {
          "base_uri": "https://localhost:8080/"
        },
        "id": "k857Q9PXVdwI",
        "outputId": "a7f87de6-d672-4e57-9e64-ee747d6f4981"
      },
      "source": [
        "# Instanciando o objeto Grafo\n",
        "G1 = nx.Graph()\n",
        "\n",
        "# Adicionando os Vértices\n",
        "G1.add_nodes_from(['A','B','C','D','E','F','G'])\n",
        "\n",
        "# Adicionando as Arestas\n",
        "G1.add_edges_from([\n",
        "                  ('A','B'),('A','C'), ('A','D'),\n",
        "                  ('B','C'),('B','E'),\n",
        "                  ('C','F'),\n",
        "                  ('D','E'),('D','F'),\n",
        "                  ('E','G'),('E','F')\n",
        "                  ])\n",
        "                 \n",
        "\n",
        "exibir_grafo(G1)"
      ],
      "execution_count": null,
      "outputs": [
        {
          "output_type": "display_data",
          "data": {
            "text/plain": [
              "<Figure size 432x288 with 0 Axes>"
            ]
          },
          "metadata": {}
        },
        {
          "output_type": "display_data",
          "data": {
            "image/png": "[encoded data removed]",
            "text/plain": [
              "<Figure size 720x504 with 1 Axes>"
            ]
          },
          "metadata": {}
        }
      ]
    },
    {
      "cell_type": "code",
      "metadata": {
        "id": "waKENmFm7Tc6",
        "colab": {
          "base_uri": "https://localhost:8080/"
        },
        "outputId": "cf6f5fab-5b9d-4187-f8be-98ff5a53d3c6"
      },
      "source": [
        "colors = ['P1','P2', 'P3', 'P4', 'P5', 'P6']\n",
        "apply_color(G1, colors)"
      ],
      "execution_count": null,
      "outputs": [
        {
          "output_type": "execute_result",
          "data": {
            "text/plain": [
              "{'A': 'P1', 'B': 'P2', 'C': 'P3', 'D': 'P2', 'E': 'P1', 'F': 'P4', 'G': 'P2'}"
            ]
          },
          "metadata": {},
          "execution_count": 162
        }
      ]
    },
    {
      "cell_type": "markdown",
      "metadata": {
        "id": "iV5APTgF8hEE"
      },
      "source": [
        "### Exemplo 2\n",
        "\n",
        "O nosso segundo exemplo foi o da organização do ônibus para a excurção escolar. Vamos relembrar o problema. \n",
        "\n",
        "João está organizando uma excursão para Itacaré com os colegas da escola e ficou responsável de distribuir os passageiros nas poltronas da van. No entanto, ele deve ter cuidado para não incluir em poltronas vizinhas colegas que não se dão bem. Foi pedido também que todos os casais viagem em poltronas vizinhas. A imagem a seguir mostra as informações que o líder de turma passou para João sobre os relacionamentos entre os companheiros de turma.\n",
        "\n",
        "* Maria namora José;\n",
        "* Carlos não se dá bem com Gabriela;\n",
        "* Gabriela é ex-namorada de Fernando e o fim do namoro não foi amigável;\n",
        "* Gabriela já disse que não viaja junto nem de Jonas e nem de Carla;\n",
        "* Carla e Manoela já disseram que viajam desde que não seja ao lado nem do Fábio e nem do Fernando;\n",
        "* Joana namora Raul;\n",
        "* A professora Miriam é casada com o diretor Alberto;\n",
        "* Jonas já disse que não viaja ao lado nem do João e nem do Fernando;\n",
        "* Fábio só tem implicância com o diretor Alberto;\n",
        "* João é amigo de todo mundo.\n",
        "\n",
        "Nesse exemplo, os vértices são as pessoas e as arestas vai ser a relação que indica que eles tem alguma implicância de acordo com a lista passada. Vamos construir o Grafo então.\n",
        "\n",
        "**Vértices:** Maria, José, Carlos, Gabriela, Fernando, Jonas, Carla, Manoela, Fábio, Joana, Raul, Miriam, Alberto, João.\n"
      ]
    },
    {
      "cell_type": "code",
      "metadata": {
        "id": "Nmgop8wvROLa",
        "colab": {
          "base_uri": "https://localhost:8080/",
          "height": 592
        },
        "outputId": "7818d9d3-3542-4a52-db2d-6b81ea46419f"
      },
      "source": [
        "# Instanciando o objeto Grafo\n",
        "G2 = nx.Graph()\n",
        "\n",
        "# Adicionando os Vértices\n",
        "#G2.add_nodes_from(['Maria', 'José', 'Carlos', 'Gabriela', 'Fernando', 'Jonas', 'Carla', 'Manoela', 'Fábio', 'Joana', 'Raul', 'Miriam', 'Alberto', 'João'])\n",
        "G2.add_nodes_from(['Carlos', 'Gabriela', 'Fernando', 'Jonas', 'Carla', 'Manoela', 'Fábio', 'João'])\n",
        "\n",
        "G2.add_edges_from([\n",
        "                    ('Carlos','Gabriela'),\n",
        "                   ('Gabriela','Fernando'),\n",
        "                   ('Gabriela','Jonas'),\n",
        "                   ('Gabriela','Carla'),\n",
        "                   ('Carla', 'Fábio'),\n",
        "                   ('Carla','Fernando'),\n",
        "                   ('Manoela','Fábio'),\n",
        "                   ('Manoela','Fernando'),\n",
        "                   ('Jonas','Fernando'),\n",
        "                   ('Jonas','João'),\n",
        "])\n",
        "\n",
        "\n",
        "exibir_grafo(G2, fig_size=(10,10), node_size=3000)"
      ],
      "execution_count": null,
      "outputs": [
        {
          "output_type": "display_data",
          "data": {
            "text/plain": [
              "<Figure size 432x288 with 0 Axes>"
            ]
          },
          "metadata": {}
        },
        {
          "output_type": "display_data",
          "data": {
            "image/png": "[encoded data removed]",
            "text/plain": [
              "<Figure size 720x720 with 1 Axes>"
            ]
          },
          "metadata": {}
        }
      ]
    },
    {
      "cell_type": "code",
      "metadata": {
        "colab": {
          "base_uri": "https://localhost:8080/"
        },
        "id": "1drA8eWkKQRX",
        "outputId": "67c57051-8da2-4c5b-a961-576cdf58f8f9"
      },
      "source": [
        "couples = [('Maria','José'),('Joana','Raul'),('Miriam','Alberto')]\n",
        "\n",
        "colors_ = ['A','B','C','D','E','F','G']\n",
        "\n",
        "colors_node_ = {}\n",
        "\n",
        "for couple in couples:\n",
        "  pick_color = colors_[0]\n",
        "  colors_node_[couple[0]] = pick_color\n",
        "  colors_node_[couple[1]] = pick_color\n",
        "  colors_.remove(pick_color)\n",
        "\n",
        "print(colors_node_)\n",
        "print(colors_)"
      ],
      "execution_count": null,
      "outputs": [
        {
          "output_type": "stream",
          "name": "stdout",
          "text": [
            "{'Maria': 'A', 'José': 'A', 'Joana': 'B', 'Raul': 'B', 'Miriam': 'C', 'Alberto': 'C'}\n",
            "['D', 'E', 'F', 'G']\n"
          ]
        }
      ]
    },
    {
      "cell_type": "code",
      "metadata": {
        "id": "gZgI3kVuLVxe"
      },
      "source": [
        "# Associandos os vértices a cores\n",
        "\n",
        "def apply_color_adapted(graph, colors, colors_node):\n",
        "  \n",
        "  ordered_nodes = get_ordered_nodes(graph)\n",
        "  \n",
        "  pick_color = colors[0]\n",
        "  \n",
        "  while len(ordered_nodes) > 0:\n",
        "    pick_nodes = []  \n",
        "    count_use_color = 0\n",
        "    for node in ordered_nodes:\n",
        "      \n",
        "      if(not test_neighbors_color(node, colors_node, pick_color, graph)):\n",
        "        colors_node[node] = pick_color\n",
        "        pick_nodes.append(node)\n",
        "        count_use_color += 1\n",
        "\n",
        "        if count_use_color == 2:\n",
        "          break\n",
        "      \n",
        "    \n",
        "    ordered_nodes = [node for node in ordered_nodes if node not in pick_nodes]\n",
        "    colors.remove(pick_color)\n",
        "\n",
        "    if len(colors) > 0:\n",
        "      pick_color = colors[0]\n",
        "    else:\n",
        "      break\n",
        "      \n",
        "\n",
        "  return colors_node"
      ],
      "execution_count": null,
      "outputs": []
    },
    {
      "cell_type": "code",
      "metadata": {
        "colab": {
          "base_uri": "https://localhost:8080/"
        },
        "id": "xxfJgIkyMFsI",
        "outputId": "df93aa20-5f84-4f3a-d75a-030e7ecef744"
      },
      "source": [
        "apply_color_adapted(G2, colors_, colors_node_)"
      ],
      "execution_count": null,
      "outputs": [
        {
          "output_type": "execute_result",
          "data": {
            "text/plain": [
              "{'Alberto': 'C',\n",
              " 'Carla': 'F',\n",
              " 'Carlos': 'G',\n",
              " 'Fernando': 'E',\n",
              " 'Fábio': 'E',\n",
              " 'Gabriela': 'D',\n",
              " 'Joana': 'B',\n",
              " 'Jonas': 'F',\n",
              " 'José': 'A',\n",
              " 'João': 'G',\n",
              " 'Manoela': 'D',\n",
              " 'Maria': 'A',\n",
              " 'Miriam': 'C',\n",
              " 'Raul': 'B'}"
            ]
          },
          "metadata": {},
          "execution_count": 170
        }
      ]
    },
    {
      "cell_type": "markdown",
      "metadata": {
        "id": "sovq4qwaV1hz"
      },
      "source": [
        "### Por hoje é só :)\n",
        "\n",
        "É isso pessoal. Essa implementação serve não só para que a gente aplique os conceitos vistos em sala de aula, mas também para que vocês vão se acostumando como implementar utilizando a biblioteca e, principalmente, como sair do algoritmo que vimos em sala de aula para a lógica de progração. \n",
        "\n",
        "![](https://media.giphy.com/media/26DN48mfu3uWJ3J7y/giphy.gif?cid=ecf05e47ic3zerdnxap46ifvv661vtpn8cgzhu2eitl9z6bu&rid=giphy.gif&ct=g)\n",
        "\n",
        "Até a próxima :) "
      ]
    },
    {
      "cell_type": "code",
      "metadata": {
        "id": "vnqRvjFpUx2l"
      },
      "source": [
        ""
      ],
      "execution_count": null,
      "outputs": []
    }
  ]
}