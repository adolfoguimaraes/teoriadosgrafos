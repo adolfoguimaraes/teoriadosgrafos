{
  "nbformat": 4,
  "nbformat_minor": 0,
  "metadata": {
    "colab": {
      "name": "04 - Árvores.ipynb",
      "provenance": [],
      "collapsed_sections": [],
      "authorship_tag": "ABX9TyOYnYS4myRP26CTskKVac31",
      "include_colab_link": true
    },
    "kernelspec": {
      "name": "python3",
      "display_name": "Python 3"
    },
    "language_info": {
      "name": "python"
    }
  },
  "cells": [
    {
      "cell_type": "markdown",
      "metadata": {
        "id": "view-in-github",
        "colab_type": "text"
      },
      "source": [
        "<a href=\"https://colab.research.google.com/github/adolfoguimaraes/teoriadosgrafos/blob/main/04_%C3%81rvores.ipynb\" target=\"_parent\"><img src=\"https://colab.research.google.com/assets/colab-badge.svg\" alt=\"Open In Colab\"/></a>"
      ]
    },
    {
      "cell_type": "markdown",
      "metadata": {
        "id": "meGB0SGM1rvq"
      },
      "source": [
        "# Árvores\n",
        "\n",
        "![](https://media.giphy.com/media/Xee2ymyK455vdsBKXR/giphy.gif?cid=ecf05e47a3dcj5hrjt7u5iepl6wp1786zje9u854isfmhbxe&rid=giphy.gif&ct=g)\n",
        "\n",
        "Vimos na aula de hoje um tipo especial de grafo que é a árvore. A árvore é um grafo que tem algumas propriedades específicas. São elas: \n",
        "\n",
        "* É conexo;\n",
        "* Não possui ciclos;\n",
        "* Existe exatamente um caminho simples entre qualquer par de vértices distintos;\n",
        "* Possui n vértices e n-1 arestas;\n",
        "* É minimamente conexo: a retirada de qualquer aresta torna o grafo desconexo;\n",
        "* Ao adicionar uma aresta, o grafo possui exatamente um ciclo.\n",
        "\n",
        "\n",
        "Vamos implementar alguns conceitos vistos em sala de aula. Preparados?\n",
        "\n",
        "![](https://media.giphy.com/media/0lGOCxq1V8N7E1icuQ/giphy-downsized-large.gif?cid=ecf05e47c53q632mi5huuvo364goc3scxf3w7zy1e460tgdd&rid=giphy-downsized-large.gif&ct=g)\n"
      ]
    },
    {
      "cell_type": "markdown",
      "metadata": {
        "id": "7mxyDhSzST2F"
      },
      "source": [
        "## Imports e Métodos auxiliares"
      ]
    },
    {
      "cell_type": "code",
      "metadata": {
        "id": "QeDHuVsY1DRV"
      },
      "source": [
        "\n",
        "# importando a biblioteca \n",
        "\n",
        "import networkx as nx\n",
        "import math\n",
        "\n",
        "# importação da biblioteca para plotagem de gráficos \n",
        "import matplotlib.pyplot as plt"
      ],
      "execution_count": null,
      "outputs": []
    },
    {
      "cell_type": "code",
      "metadata": {
        "id": "wpvBVdeP31Lj"
      },
      "source": [
        "# Função em Python para facilitar a impressão do Grafo. \n",
        "\n",
        "def exibir_grafo(grafo, labels=False):\n",
        "  options = {\n",
        "      'node_color': '#0080FF',\n",
        "      'edge_color': '#808080',\n",
        "      'node_size': 600,\n",
        "      'width': 2,\n",
        "      'font_color': 'white',\n",
        "      'font_weight': 'bold',\n",
        "      'font_size': 10\n",
        "\n",
        "  }\n",
        "  plt.figure(1)\n",
        "  \n",
        "  nx.draw_networkx(\n",
        "      grafo, \n",
        "      pos=nx.spring_layout(grafo), \n",
        "      with_labels=True,\n",
        "      **options\n",
        "  )\n",
        "\n",
        "  \n",
        "  plt.show()"
      ],
      "execution_count": null,
      "outputs": []
    },
    {
      "cell_type": "markdown",
      "metadata": {
        "id": "OBDwNn7vSYOg"
      },
      "source": [
        "## Grafos de Exemplo\n",
        "\n",
        "Vamos utilizar dois grafos dos slides como grafos de exemplos. "
      ]
    },
    {
      "cell_type": "code",
      "metadata": {
        "colab": {
          "base_uri": "https://localhost:8080/",
          "height": 248
        },
        "id": "pByVKOy237Po",
        "outputId": "0b8c5ef5-b362-4c90-e3e6-b776a75151f3"
      },
      "source": [
        "# Instanciando o objeto Grafo\n",
        "G = nx.Graph()\n",
        "\n",
        "# Adicionando os Vértices\n",
        "G.add_nodes_from([1,2,3,4,5,6,7])\n",
        "\n",
        "# Adicionando as Arestas\n",
        "G.add_edges_from([\n",
        "                  (1,2),\n",
        "                  (2,3),(2,4),\n",
        "                  (3,5),\n",
        "                  (4,6),(4,7)\n",
        "                  ])\n",
        "                 \n",
        "\n",
        "exibir_grafo(G)"
      ],
      "execution_count": null,
      "outputs": [
        {
          "output_type": "display_data",
          "data": {
            "image/png": "[encoded data removed]",
            "text/plain": [
              "<Figure size 432x288 with 1 Axes>"
            ]
          },
          "metadata": {}
        }
      ]
    },
    {
      "cell_type": "code",
      "metadata": {
        "colab": {
          "base_uri": "https://localhost:8080/",
          "height": 248
        },
        "id": "ZRxPF2haSggv",
        "outputId": "afe8284d-e35d-41ed-ca97-94b951a2c210"
      },
      "source": [
        "# Instanciando o objeto Grafo\n",
        "G1 = nx.Graph()\n",
        "\n",
        "# Adicionando os Vértices\n",
        "G1.add_nodes_from([\"a\",\"b\",\"c\",\"d\",\"e\",\"f\",\"g\"])\n",
        "\n",
        "# Adicionando as Arestas\n",
        "G1.add_edge(\"a\", \"b\", weight=1)\n",
        "G1.add_edge(\"a\", \"d\", weight=4)\n",
        "G1.add_edge(\"b\", \"c\", weight=2)\n",
        "G1.add_edge(\"b\", \"d\", weight=6)\n",
        "G1.add_edge(\"b\", \"e\", weight=4)\n",
        "G1.add_edge(\"b\", \"f\", weight=8)\n",
        "G1.add_edge(\"c\", \"f\", weight=6)\n",
        "G1.add_edge(\"d\", \"e\", weight=3)\n",
        "G1.add_edge(\"d\", \"g\", weight=4)\n",
        "G1.add_edge(\"e\", \"g\", weight=9)\n",
        "G1.add_edge(\"e\", \"f\", weight=8)\n",
        "G1.add_edge(\"f\", \"g\", weight=3)\n",
        "\n",
        "\n",
        "exibir_grafo(G1)"
      ],
      "execution_count": null,
      "outputs": [
        {
          "output_type": "display_data",
          "data": {
            "image/png": "[encoded data removed]",
            "text/plain": [
              "<Figure size 432x288 with 1 Axes>"
            ]
          },
          "metadata": {}
        }
      ]
    },
    {
      "cell_type": "markdown",
      "metadata": {
        "id": "sS1nC5x08bxy"
      },
      "source": [
        "## Centro do Grafo\n",
        "\n",
        "Nosso primeiro desafio é encontrar o centro de um grafo. Nesse caso, o centro de uma árvore. A gente viu em sala de aula que o centro do grafo é o vértice que tem o menor valor de excentricidade. Vimos também que a excentricidade de um vértice é a distância de v até o vértice mais longe de v. \n",
        "\n",
        "Vamos listar o passo a passo com base nestes conceitos:\n",
        "\n",
        "![](https://media.giphy.com/media/4xWGyVKoXqg2eVCiq9/giphy.gif?cid=ecf05e47jgs76agxxj8cpbfek7tpnyc0hkinb82qgl4f31wu&rid=giphy.gif&ct=g)\n",
        "\n",
        "- Para cada vértice do grafo vamos ver a distância dele para todos os demais vértices do grafo. Isso vai ser feito utilizando uma função que dado um vértice de origem e um vértice de destino retorna os caminhos entre esses dois pontos. Para resolver esse problema, vou utilizar o método `all_shortest_path` da biblioteca. Ele retorna todos os menores caminhos entre dois vértices. Como a gente fala em distância em árvore é exatamente esse caminho que a gente quer. \n",
        "- Em seguida, vou ver qual a maior distância de cada vértice e associar como excentricidade deste grafo. \n",
        "- Por fim, vamos pegar o vértice que tem o menor valor e retornar como centro do grafo. Lembrando o centro do grafo pode ser mais de um vértice. \n",
        "\n"
      ]
    },
    {
      "cell_type": "code",
      "metadata": {
        "id": "13wBkDAu4Dq9"
      },
      "source": [
        "# Método que retorna os centros do grafo\n",
        "def graph_center(G):\n",
        "\n",
        "  excentricy_graph = get_excentricy(G)\n",
        "  center_ = center_graph(excentricy_graph)\n",
        "  \n",
        "  return center_\n",
        "\n"
      ],
      "execution_count": null,
      "outputs": []
    },
    {
      "cell_type": "code",
      "metadata": {
        "id": "IjN_ncfJ9rRh"
      },
      "source": [
        "# Método que retorna a excentricidade de cada vértice\n",
        "def get_excentricy(G):\n",
        "  result_dict = {}\n",
        "  for nodeA in list(G.nodes()):\n",
        "    maior = -math.inf\n",
        "    for nodeB in list(G.nodes()):\n",
        "      if(nodeA != nodeB):\n",
        "        path_ = list(nx.all_shortest_paths(G, nodeA, nodeB))\n",
        "        distancia_ = len(path_[0]) - 1\n",
        "        if distancia_ > maior:\n",
        "          maior = distancia_\n",
        "\n",
        "    result_dict[nodeA] = maior\n",
        "\n",
        "  \n",
        "  return result_dict\n",
        "  \n",
        "        "
      ],
      "execution_count": null,
      "outputs": []
    },
    {
      "cell_type": "code",
      "metadata": {
        "id": "9PkQ9jgk9zCb"
      },
      "source": [
        "# Método que retorna os centros dado um dicionário com as excentricidades calculadas\n",
        "def center_graph(dict_):\n",
        "  result_return = []\n",
        "  menor = min(dict_.values())\n",
        "  for key in dict_:\n",
        "    if dict_[key] == menor:\n",
        "      result_return.append(key)\n",
        "\n",
        "  return result_return"
      ],
      "execution_count": null,
      "outputs": []
    },
    {
      "cell_type": "code",
      "metadata": {
        "colab": {
          "base_uri": "https://localhost:8080/",
          "height": 265
        },
        "id": "3bg4GMkxAFEA",
        "outputId": "1658c933-3980-4c1d-bcfc-eeb45c659edc"
      },
      "source": [
        "# Aplicando os métodos\n",
        "center_value = graph_center(G)\n",
        "exibir_grafo(G)\n",
        "print(\"O centro do grafo G é composto pelos vértices: %s\" % center_value)"
      ],
      "execution_count": null,
      "outputs": [
        {
          "output_type": "display_data",
          "data": {
            "image/png": "[encoded data removed]",
            "text/plain": [
              "<Figure size 432x288 with 1 Axes>"
            ]
          },
          "metadata": {}
        },
        {
          "output_type": "stream",
          "name": "stdout",
          "text": [
            "O centro do grafo G é composto pelos vértices: [2]\n"
          ]
        }
      ]
    },
    {
      "cell_type": "markdown",
      "metadata": {
        "id": "7cZ991he9ylQ"
      },
      "source": [
        "## Busca da Árvore Geradora Mínima\n",
        "\n",
        "Um outro tópico abordado na aula foi o algoritmo para encontrar a árvore geradora mínima. Vamos implementar o algoritmo de Prim. Utilizando a seguite lógica:\n",
        "\n",
        "![](https://media.giphy.com/media/KKOMG9EB7VqBq/giphy-downsized-large.gif?cid=ecf05e47wg7h9xfkt4vjb521hw0xrauf9kv9fkwy9ecd2tel&rid=giphy-downsized-large.gif&ct=g)\n",
        "\n",
        "- Preciso de um método que identifique dada uma aresta se ela toca o conjunto B. \n",
        "- Uma vez que toca o conjuto B, eu pego a de menor peso e incluo na minha árvore geradora. \n",
        "\n",
        "\n",
        "Vale lembrar que uma aresta toca um conjunto se somente um de seus vértices estão nesse conjunto. \n",
        "\n",
        "Vamos lá? \n"
      ]
    },
    {
      "cell_type": "markdown",
      "metadata": {
        "id": "eE7d250CHTSG"
      },
      "source": [
        "### Definindo o Grafo para teste\n",
        "\n",
        "Vamos utilizar o mesmo grafo que foi visto em sala de aula para mostra os algoritmos. Ele está implementado aqui como o G1."
      ]
    },
    {
      "cell_type": "code",
      "metadata": {
        "colab": {
          "base_uri": "https://localhost:8080/",
          "height": 248
        },
        "id": "k857Q9PXVdwI",
        "outputId": "8dd7a324-6e92-41e0-cb12-e159ffe704d5"
      },
      "source": [
        "exibir_grafo(G1)"
      ],
      "execution_count": null,
      "outputs": [
        {
          "output_type": "display_data",
          "data": {
            "image/png": "[encoded data removed]",
            "text/plain": [
              "<Figure size 432x288 with 1 Axes>"
            ]
          },
          "metadata": {}
        }
      ]
    },
    {
      "cell_type": "code",
      "metadata": {
        "id": "waKENmFm7Tc6"
      },
      "source": [
        "# Método que verifica se um aresta toca um conjunto\n",
        "def touch_(set_, edge):\n",
        "  node_a = edge[0] in set_;\n",
        "  node_b = edge[1] in set_;\n",
        "\n",
        "  return node_a != node_b\n"
      ],
      "execution_count": null,
      "outputs": []
    },
    {
      "cell_type": "code",
      "metadata": {
        "id": "Nmgop8wvROLa"
      },
      "source": [
        "# Método que retorna o peso de uma aresta\n",
        "def get_edge_data(graph, edge, data_):\n",
        "  return graph.get_edge_data(edge[0], edge[1], data_)\n",
        "  "
      ],
      "execution_count": null,
      "outputs": []
    },
    {
      "cell_type": "code",
      "metadata": {
        "id": "l98Ejj5IRP_C"
      },
      "source": [
        "# Método que retorna a aresta com menor peso dado um dicionário {aresta: peso}\n",
        "def less_edge(dict_):\n",
        "\n",
        "  less_value = math.inf\n",
        "  edge_ = None\n",
        "  for edge in dict_:\n",
        "    if dict_[edge] < less_value:\n",
        "      edge_ = edge\n",
        "      less_value = dict_[edge]\n",
        "\n",
        "  return edge_\n"
      ],
      "execution_count": null,
      "outputs": []
    },
    {
      "cell_type": "code",
      "metadata": {
        "id": "ko9glQuI7Vnz"
      },
      "source": [
        "# Método que retorna a árvore geradora mínima\n",
        "def return_gmin(grafo_):\n",
        "  all_nodes = list(grafo_.nodes())\n",
        "  all_edges = list(grafo_.edges())\n",
        "  \n",
        "  min_tree_edges = []\n",
        "  \n",
        "  B = [all_edges[0][0]]\n",
        "\n",
        "\n",
        "  while set(all_nodes) != set(B):\n",
        "    \n",
        "    all_touch = {}\n",
        "\n",
        "    for edge in list(all_edges):\n",
        "      if touch_(B, edge):\n",
        "        all_touch[edge] = get_edge_data(grafo_, edge, 'weigth')['weight']\n",
        "\n",
        "    less_ = less_edge(all_touch)\n",
        "    min_tree_edges.append(less_)\n",
        "\n",
        "    if less_[1] not in B:\n",
        "      B.append(less_[1])\n",
        "    else:\n",
        "      B.append(less_[0])\n",
        "    \n",
        "\n",
        "  G_min = grafo_.copy()\n",
        "  weigth_gmin = 0\n",
        "\n",
        "  for edge_g in list(G_min.edges()):\n",
        "    if edge_g not in min_tree_edges:\n",
        "      G_min.remove_edge(edge_g[0], edge_g[1])\n",
        "    else:\n",
        "      weigth_gmin += get_edge_data(grafo_, edge_g, 'weigth')['weight']\n",
        "\n",
        "\n",
        "  return G_min, weigth_gmin\n"
      ],
      "execution_count": null,
      "outputs": []
    },
    {
      "cell_type": "code",
      "metadata": {
        "colab": {
          "base_uri": "https://localhost:8080/",
          "height": 265
        },
        "id": "TBx4tw4AHvaZ",
        "outputId": "d73ab3e9-03f2-440a-a004-5d912e5a01bf"
      },
      "source": [
        "# Aplicando os métodos\n",
        "g_min, w = return_gmin(G1)\n",
        "exibir_grafo(g_min)\n",
        "print(\"Peso da árvore: % i\" % w)"
      ],
      "execution_count": null,
      "outputs": [
        {
          "output_type": "display_data",
          "data": {
            "image/png": "[encoded data removed]",
            "text/plain": [
              "<Figure size 432x288 with 1 Axes>"
            ]
          },
          "metadata": {}
        },
        {
          "output_type": "stream",
          "name": "stdout",
          "text": [
            "Peso da árvore:  17\n"
          ]
        }
      ]
    },
    {
      "cell_type": "markdown",
      "metadata": {
        "id": "sovq4qwaV1hz"
      },
      "source": [
        "É isso pessoal. Por hoje é só. Essa implementação serve não só para que a gente aplique os conceitos vistos em sala de aula, mas também para que vocês vão se acostumando como implementar utilizando a biblioteca e, principalmente, como sair do algoritmo que vimos em sala de aula para a lógica de progração. \n",
        "\n",
        "![](https://media.giphy.com/media/26DN48mfu3uWJ3J7y/giphy.gif?cid=ecf05e47ic3zerdnxap46ifvv661vtpn8cgzhu2eitl9z6bu&rid=giphy.gif&ct=g)\n",
        "\n",
        "Até a próxima :) "
      ]
    }
  ]
}