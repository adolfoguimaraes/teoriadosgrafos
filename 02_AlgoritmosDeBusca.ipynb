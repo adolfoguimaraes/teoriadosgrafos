{
  "nbformat": 4,
  "nbformat_minor": 0,
  "metadata": {
    "colab": {
      "name": "02_AlgoritmosDeBusca.ipynb",
      "provenance": [],
      "collapsed_sections": [],
      "include_colab_link": true
    },
    "kernelspec": {
      "name": "python3",
      "display_name": "Python 3"
    },
    "language_info": {
      "name": "python"
    }
  },
  "cells": [
    {
      "cell_type": "markdown",
      "metadata": {
        "id": "view-in-github",
        "colab_type": "text"
      },
      "source": [
        "<a href=\"https://colab.research.google.com/github/adolfoguimaraes/teoriadosgrafos/blob/main/02_AlgoritmosDeBusca.ipynb\" target=\"_parent\"><img src=\"https://colab.research.google.com/assets/colab-badge.svg\" alt=\"Open In Colab\"/></a>"
      ]
    },
    {
      "cell_type": "markdown",
      "metadata": {
        "id": "q7TrrxmdqBcA"
      },
      "source": [
        "# Algoritmos de Busca \n",
        "\n",
        "Hora de implementar :) Vamos colocar em prática alguns conceitos vistos na aula de hoje. \n",
        "\n",
        "![letsgo](https://media.giphy.com/media/3o7TKUM3IgJBX2as9O/giphy.gif?cid=ecf05e47j54zjel0dct4y8tdsndabsayqffsmiiw1y5fmuua&rid=giphy.gif&ct=g)\n",
        "\n",
        "Nosso ponto de partida são os algoritmos de busca vistos em sala de aula. Mas precisamente, o algoritmo de busca em Profundidade."
      ]
    },
    {
      "cell_type": "markdown",
      "metadata": {
        "id": "peblhW7v_Lml"
      },
      "source": [
        "## Importação e métodos de apoio\n",
        "\n",
        "\n",
        "Nesta seção ficarão os códigos para importação de bibliotecas e métodos auxiliares da implementação."
      ]
    },
    {
      "cell_type": "code",
      "metadata": {
        "id": "U5FOl13Cp_Ke"
      },
      "source": [
        "# importando a biblioteca \n",
        "\n",
        "import networkx as nx\n",
        "\n",
        "# importação da biblioteca para plotagem de gráficos \n",
        "import matplotlib.pyplot as plt "
      ],
      "execution_count": 8,
      "outputs": []
    },
    {
      "cell_type": "code",
      "metadata": {
        "id": "ZrogWurartml"
      },
      "source": [
        "# Função em Python para facilitar a impressão do Grafo. \n",
        "\n",
        "def exibir_grafo(grafo):\n",
        "  options = {\n",
        "      'node_color': '#0080FF',\n",
        "      'edge_color': '#808080',\n",
        "      'node_size': 600,\n",
        "      'width': 2,\n",
        "      'font_color': 'white',\n",
        "      'font_weight': 'bold',\n",
        "      'font_size': 10\n",
        "\n",
        "  }\n",
        "  plt.figure(1)\n",
        "  nx.draw_networkx(\n",
        "      grafo, \n",
        "      pos=nx.spring_layout(grafo), \n",
        "      with_labels=True,\n",
        "      **options\n",
        "  )\n",
        "  plt.show()"
      ],
      "execution_count": 9,
      "outputs": []
    },
    {
      "cell_type": "markdown",
      "metadata": {
        "id": "-1hCBRYU_pyz"
      },
      "source": [
        "## Construindo o Grafo\n",
        "\n",
        "Vamos construir um grafo de exemplo para que a gente possa aplicar os algoritmos de busca."
      ]
    },
    {
      "cell_type": "code",
      "metadata": {
        "colab": {
          "base_uri": "https://localhost:8080/",
          "height": 248
        },
        "id": "PfN2alhgsLML",
        "outputId": "a6afde24-9cea-4d9a-fffd-3ec029c5f1b9"
      },
      "source": [
        "\n",
        "# Instanciando o objeto Grafo\n",
        "G = nx.Graph()\n",
        "\n",
        "# Adicionando os Vértices\n",
        "G.add_nodes_from([1,2,3,4,5,6,7,8])\n",
        "\n",
        "# Adicionando as Arestas\n",
        "G.add_edges_from([\n",
        "                  (1,2),(1,3),(2,4),(2,5),\n",
        "                  (3,4),(4,5),(4,6),(6,7),(6,8),(7,8)\n",
        "                  ])\n",
        "                 \n",
        "\n",
        "exibir_grafo(G)\n"
      ],
      "execution_count": 10,
      "outputs": [
        {
          "output_type": "display_data",
          "data": {
            "image/png": "[encoded data removed]",
            "text/plain": [
              "<Figure size 432x288 with 1 Axes>"
            ]
          },
          "metadata": {}
        }
      ]
    },
    {
      "cell_type": "markdown",
      "metadata": {
        "id": "4ySZd0YR_zMF"
      },
      "source": [
        "## Algoritmo de busca em profundidade\n",
        "\n",
        "![](https://media.giphy.com/media/JUh0yTz4h931K/giphy.gif?cid=ecf05e47mosqv1zv5fpyc5p9tozwl5x9mwthlxci08wf9yf9&rid=giphy.gif&ct=g)\n",
        "\n",
        "Vamos implementar o algoritmo de busca em profundidade visto em sala de aula. A versão que a gente vai utilizar é a versão iterativa que está disponível nos slides. \n",
        "\n",
        "Segue o pseudo-código. \n",
        "\n",
        "```\n",
        "procedimento DFS_iterativo(v: vertice)\n",
        "  Inicializar P\n",
        "  Marcar P como visitado\n",
        "  Empilhar v em P\n",
        "\n",
        "  Enquanto P não estiver vazio\n",
        "    Enquanto existe um vértice w não visitado e adjacente o topo de P\n",
        "      Marcar w como visitado\n",
        "      Empilhar w em P\n",
        "\n",
        "    Retirar o primeiro elemento de P\n",
        "```"
      ]
    },
    {
      "cell_type": "code",
      "metadata": {
        "id": "jXQXZBpHCvFO"
      },
      "source": [
        "# Função que retorna um vértice adjacente não-visitado\n",
        "# de um vértice passado como parâmetro\n",
        "\n",
        "def get_no_visted_neighbors(graph_, node, v):\n",
        "  neighbors_node = [x for x in list(nx.neighbors(graph_, node)) if x not in v]\n",
        "  if len(neighbors_node) > 0: return neighbors_node[0]\n",
        "  else: None"
      ],
      "execution_count": 11,
      "outputs": []
    },
    {
      "cell_type": "code",
      "metadata": {
        "id": "rxK7-Q5uA1bk"
      },
      "source": [
        "def dfs(graph):\n",
        "\n",
        "  not_visited = list(graph.nodes())\n",
        "\n",
        "  while len(not_visited) > 0:\n",
        "    node_start = not_visited[0]\n",
        "    visited, explored = dfs_interative(graph, node_start, not_visited)\n",
        "    print(\"Visitados: %s\" % visited)\n",
        "    print(\"Explorados: %s\" % explored)\n"
      ],
      "execution_count": 12,
      "outputs": []
    },
    {
      "cell_type": "code",
      "metadata": {
        "id": "2nHfHIdGB2M6"
      },
      "source": [
        "def dfs_interative(graph, v, list_not_visited):\n",
        "\n",
        "  stack_ = []\n",
        "  visited_ = []\n",
        "  explored_ = []\n",
        "\n",
        "  stack_.append(v)\n",
        "  visited_.append(v)\n",
        "  list_not_visited.remove(v)\n",
        "\n",
        "  while len(stack_) > 0:\n",
        "    top_stack = stack_[-1]\n",
        "    node_not_visited = get_no_visted_neighbors(graph, top_stack, visited_)\n",
        "    if node_not_visited:\n",
        "      stack_.append(node_not_visited)\n",
        "      visited_.append(node_not_visited)\n",
        "      list_not_visited.remove(node_not_visited)\n",
        "    else:\n",
        "      explored_.append(stack_.pop())\n",
        "\n",
        "  return visited_, explored_\n"
      ],
      "execution_count": 13,
      "outputs": []
    },
    {
      "cell_type": "code",
      "metadata": {
        "colab": {
          "base_uri": "https://localhost:8080/"
        },
        "id": "aZq3a6jsC34a",
        "outputId": "420cfe82-7be5-43c4-a7d1-8bb0f281a577"
      },
      "source": [
        "dfs(G)"
      ],
      "execution_count": 14,
      "outputs": [
        {
          "output_type": "stream",
          "name": "stdout",
          "text": [
            "Visitados: [1, 2, 4, 3, 5, 6, 7, 8]\n",
            "Explorados: [3, 5, 8, 7, 6, 4, 2, 1]\n"
          ]
        }
      ]
    },
    {
      "cell_type": "markdown",
      "metadata": {
        "id": "EBJI7jpi9oVd"
      },
      "source": [
        "# Trabalho Prático: Atividade 1 \n",
        "\n",
        "Agora é sua vez de implementar:\n",
        "\n",
        "![yess](https://media.giphy.com/media/ckeHl52mNtoq87veET/giphy.gif?cid=ecf05e47oubgly18e47iwppoo3mo3s3cx23pvz066tgkcvtw&rid=giphy.gif&ct=g)\n",
        "\n",
        "Essa atividade consiste na primeira parte do trabalho prático da primeira unidade. Cada item deve ser implementado aqui no Notebook, utilizando a biblioteca NetworkX. \n",
        "\n",
        "**Atenção!!!**\n",
        "\n",
        "![](https://media.giphy.com/media/flWn1Cyk9HcVIj9xWy/giphy.gif?cid=ecf05e47fy8evk0m8mlpbloho97k0l1sc8u8enwr7hwy25vy&rid=giphy.gif&ct=g)\n",
        "\n",
        "Os métodos solicitados devem ser implementados pelos alunos. Ou seja, não pode utilizar a implementação disponível na biblioteca. No entanto, vocês utilizar métodos da biblioteca de forma auxiliar, desde que não seja o método que faz o que está sendo pedido.\n",
        "\n",
        "Vamos começar ;) \n"
      ]
    },
    {
      "cell_type": "markdown",
      "metadata": {
        "id": "8NWRFF4zE9uI"
      },
      "source": [
        "### 1. Implemente o método iterativo da busca em largura. Lembre que você deve usar uma fila para implementa-lo.\n"
      ]
    },
    {
      "cell_type": "code",
      "metadata": {
        "id": "MAXarYlKO9h7"
      },
      "source": [
        "# Função que retorna um vértice adjacente não-visitado\n",
        "# de um vértice passado como parâmetro\n",
        "\n",
        "def get_no_visted_neighbors_bfs(graph_, node, v):\n",
        "  neighbors_node = [x for x in list(nx.neighbors(graph_, node)) if x not in v]\n",
        "  if len(neighbors_node) > 0: return neighbors_node\n",
        "  else: None"
      ],
      "execution_count": 38,
      "outputs": []
    },
    {
      "cell_type": "code",
      "metadata": {
        "id": "W3aJi7K0FMD_"
      },
      "source": [
        "def bfs_interative(graph, v, list_not_visited):\n",
        "\n",
        "  queue_ = []\n",
        "  visited_ = []\n",
        "  explored_ = []\n",
        "\n",
        "  queue_.append(v)\n",
        "  visited_.append(v)\n",
        "  list_not_visited.remove(v)\n",
        "\n",
        "  while len(queue_) > 0:\n",
        "    first_queue = queue_[0]\n",
        "    nodes_not_visited = get_no_visted_neighbors_bfs(graph, first_queue, visited_)\n",
        "    if nodes_not_visited:\n",
        "      queue_.extend(nodes_not_visited)\n",
        "      visited_.extend(nodes_not_visited)\n",
        "      for temp_node in nodes_not_visited:\n",
        "        list_not_visited.remove(temp_node)\n",
        "    \n",
        "    explored_.append(queue_.pop(0))\n",
        "\n",
        "  return visited_, explored_\n"
      ],
      "execution_count": 42,
      "outputs": []
    },
    {
      "cell_type": "code",
      "metadata": {
        "id": "LwJe4crGPCrb"
      },
      "source": [
        "def bfs(graph):\n",
        "\n",
        "  not_visited = list(graph.nodes())\n",
        "\n",
        "  while len(not_visited) > 0:\n",
        "    node_start = not_visited[0]\n",
        "    visited, explored = bfs_interative(graph, node_start, not_visited)\n",
        "    print(\"Visitados: %s\" % visited)\n",
        "    print(\"Explorados: %s\" % explored)\n"
      ],
      "execution_count": 43,
      "outputs": []
    },
    {
      "cell_type": "code",
      "metadata": {
        "colab": {
          "base_uri": "https://localhost:8080/"
        },
        "id": "N9OGrOf7RSQX",
        "outputId": "14439662-fbb4-4d42-e078-62f4773a530b"
      },
      "source": [
        "bfs(G)"
      ],
      "execution_count": 44,
      "outputs": [
        {
          "output_type": "stream",
          "name": "stdout",
          "text": [
            "Visitados: [1, 2, 3, 4, 5, 6, 7, 8]\n",
            "Explorados: [1, 2, 3, 4, 5, 6, 7, 8]\n"
          ]
        }
      ]
    },
    {
      "cell_type": "markdown",
      "metadata": {
        "id": "mjvE-KQ1FKAJ"
      },
      "source": [
        "### 2. Crie um método ```eh_conexo``` que verifica se um grafo é conexo ou não. Utilze os métodos de busca em largura ou profundidade implementados para implementar este método. "
      ]
    },
    {
      "cell_type": "code",
      "metadata": {
        "id": "Y19YZmWMFeQM"
      },
      "source": [
        "def eh_conexo(graph):\n",
        "\n",
        "  not_visited = list(graph.nodes())\n",
        "\n",
        "  while len(not_visited) > 0:\n",
        "    node_start = not_visited[0]\n",
        "    visited, explored = bfs_interative(graph, node_start, not_visited)\n",
        "    \n",
        "    if(set(visited) == set(graph.nodes())): return True \n",
        "    else: return False \n"
      ],
      "execution_count": 47,
      "outputs": []
    },
    {
      "cell_type": "code",
      "metadata": {
        "colab": {
          "base_uri": "https://localhost:8080/"
        },
        "id": "bk_1MtJlULCj",
        "outputId": "d4e9188b-debd-4aa3-d220-42219edc16bc"
      },
      "source": [
        "eh_conexo(G)"
      ],
      "execution_count": 51,
      "outputs": [
        {
          "output_type": "execute_result",
          "data": {
            "text/plain": [
              "True"
            ]
          },
          "metadata": {},
          "execution_count": 51
        }
      ]
    },
    {
      "cell_type": "markdown",
      "metadata": {
        "id": "1lCdk-pYThgU"
      },
      "source": [
        "Criando um grafo para testar."
      ]
    },
    {
      "cell_type": "code",
      "metadata": {
        "colab": {
          "base_uri": "https://localhost:8080/",
          "height": 248
        },
        "id": "qX7b7qCnT4ae",
        "outputId": "81fe9566-7de2-4b89-8ea5-c459d6cd4fa5"
      },
      "source": [
        "\n",
        "# Instanciando o objeto Grafo\n",
        "G1 = nx.Graph()\n",
        "\n",
        "# Adicionando os Vértices\n",
        "G1.add_nodes_from([1,2,3,4,5,6,7,8])\n",
        "\n",
        "# Adicionando as Arestas\n",
        "G1.add_edges_from([\n",
        "                  (1,2),(1,3),(2,4),(2,5),\n",
        "                  (3,4),(4,5),(6,7),(6,8),(7,8)\n",
        "                  ])\n",
        "                 \n",
        "\n",
        "exibir_grafo(G1)\n"
      ],
      "execution_count": 49,
      "outputs": [
        {
          "output_type": "display_data",
          "data": {
            "image/png": "[encoded data removed]",
            "text/plain": [
              "<Figure size 432x288 with 1 Axes>"
            ]
          },
          "metadata": {}
        }
      ]
    },
    {
      "cell_type": "code",
      "metadata": {
        "colab": {
          "base_uri": "https://localhost:8080/"
        },
        "id": "tSMmP886UGPp",
        "outputId": "8bfdc398-1c47-4737-8d74-a822af5bcd82"
      },
      "source": [
        "eh_conexo(G1)"
      ],
      "execution_count": 50,
      "outputs": [
        {
          "output_type": "execute_result",
          "data": {
            "text/plain": [
              "False"
            ]
          },
          "metadata": {},
          "execution_count": 50
        }
      ]
    },
    {
      "cell_type": "markdown",
      "metadata": {
        "id": "zOn82simFfDh"
      },
      "source": [
        "### 3. Modifique um dos algoritmos de busca de forma que ele faça a busca de um ponto a outro especificado. Se o caminho entre esses dois pontos existir, retorna a lista de vértices do caminho. Caso contrário, retorna ```None```."
      ]
    },
    {
      "cell_type": "code",
      "metadata": {
        "id": "y6xsgZyXFmBI"
      },
      "source": [
        "def dfs_interative_path(graph, start, end, list_not_visited):\n",
        "\n",
        "  stack_ = []\n",
        "  visited_ = []\n",
        "  explored_ = []\n",
        "\n",
        "  stack_.append(start)\n",
        "  visited_.append(start)\n",
        "  list_not_visited.remove(start)\n",
        "\n",
        "  while len(stack_) > 0:\n",
        "    top_stack = stack_[-1]\n",
        "    node_not_visited = get_no_visted_neighbors(graph, top_stack, visited_)\n",
        "    if node_not_visited:\n",
        "      \n",
        "      stack_.append(node_not_visited)\n",
        "      visited_.append(node_not_visited)\n",
        "      list_not_visited.remove(node_not_visited)\n",
        "\n",
        "      if node_not_visited == end:\n",
        "        break\n",
        "    else:\n",
        "      stack_.pop()\n",
        "\n",
        "  return stack_\n"
      ],
      "execution_count": 80,
      "outputs": []
    },
    {
      "cell_type": "code",
      "metadata": {
        "colab": {
          "base_uri": "https://localhost:8080/"
        },
        "id": "664b3EQKVXcu",
        "outputId": "74dc025a-6e0e-4ae1-8ba2-02c6b2b2da4b"
      },
      "source": [
        "teste_ = list(G.nodes())\n",
        "dfs_interative_path(G, 1, 6, teste_)"
      ],
      "execution_count": 83,
      "outputs": [
        {
          "output_type": "execute_result",
          "data": {
            "text/plain": [
              "[1, 2, 4, 6]"
            ]
          },
          "metadata": {},
          "execution_count": 83
        }
      ]
    },
    {
      "cell_type": "code",
      "metadata": {
        "colab": {
          "base_uri": "https://localhost:8080/",
          "height": 248
        },
        "id": "-Rb_wVUCVzxv",
        "outputId": "e5e69dbc-4875-4d61-bf36-79a0de0f6439"
      },
      "source": [
        "exibir_grafo(G)"
      ],
      "execution_count": 58,
      "outputs": [
        {
          "output_type": "display_data",
          "data": {
            "image/png": "[encoded data removed]",
            "text/plain": [
              "<Figure size 432x288 with 1 Axes>"
            ]
          },
          "metadata": {}
        }
      ]
    },
    {
      "cell_type": "markdown",
      "metadata": {
        "id": "TWTJKjBnFm_d"
      },
      "source": [
        "### 4. Resolvendo o problema do labirinto\n",
        "\n",
        "Sabia que podemos utilizar os métodos que você implementou até aqui para encontrar uma saída para um labirinto?\n",
        "\n",
        "![](https://c.tenor.com/--Od5TdZ3KoAAAAM/essemenino-pfizer.gif)\n",
        "\n",
        "É isso que vamos fazer agora. Considere o labirinto da imagem a seguir: \n",
        "\n",
        "![](https://wiki.data2learning.com/assets/disciplinas/iacc/modulo2/labirinto.png)\n",
        "\n",
        "* Mapei o labirinto como um grafo.\n",
        "* Construa o grafo utilizando a biblioteca NetworkX.\n",
        "* Aplique o método desenvolvido no item 3 para encontrar o caminho que leva o robô do ponto que ele está até a saída do labirinto. A saída está identificada com o quadrado rosa. \n",
        "\n",
        "\n",
        "**Mapeamento** \n",
        "\n",
        "É fácil ver que os pontos em azul podem ser considerado os vértices e as arestas o caminho entre esses pontos. \n",
        "\n",
        "![](https://wiki.data2learning.com/assets/disciplinas/iacc/modulo2/labirinto_grafo2.jpg\n",
        ")\n"
      ]
    },
    {
      "cell_type": "markdown",
      "metadata": {
        "id": "M9VHhzWOheH_"
      },
      "source": [
        "Mapeando para no NetworkX, temos:"
      ]
    },
    {
      "cell_type": "code",
      "metadata": {
        "id": "-y58Tvk-z5kN",
        "colab": {
          "base_uri": "https://localhost:8080/",
          "height": 248
        },
        "outputId": "5821c05b-90f4-45c9-d0ac-21836c8cc81c"
      },
      "source": [
        "\n",
        "# Instanciando o objeto Grafo\n",
        "GL = nx.Graph()\n",
        "\n",
        "# Adicionando os Vértices\n",
        "GL.add_nodes_from([1,2,3,4,5,6,7,8,9,10,11,12,13,14,15,16,17,18,19,20,21])\n",
        "\n",
        "# Adicionando as Arestas\n",
        "GL.add_edges_from([\n",
        "                  (1,2),\n",
        "                  (2,3),(2,6),\n",
        "                   (3,12),\n",
        "                   (4,5),\n",
        "                   (5,9),\n",
        "                   (6,7), (6,10),\n",
        "                   (7,11),\n",
        "                   (8,9),\n",
        "                   (9,10),\n",
        "                   (10,11),(10,15),\n",
        "                   (11,12),(11,20),\n",
        "                   (12,21),\n",
        "                   (13,14),\n",
        "                   (14,15),(14,18),\n",
        "                   (15,16),\n",
        "                   (16,19),\n",
        "                   (17,18),\n",
        "                   (18,19),\n",
        "                   (19,20),\n",
        "                   (20,21)\n",
        "\n",
        "\n",
        "                  ])\n",
        "                 \n",
        "\n",
        "exibir_grafo(GL)\n"
      ],
      "execution_count": 87,
      "outputs": [
        {
          "output_type": "display_data",
          "data": {
            "image/png": "[encoded data removed]",
            "text/plain": [
              "<Figure size 432x288 with 1 Axes>"
            ]
          },
          "metadata": {}
        }
      ]
    },
    {
      "cell_type": "markdown",
      "metadata": {
        "id": "ELgTc4-XhiQ1"
      },
      "source": [
        "Agora é só aplicar o método criado anteriormente para obter o caminho."
      ]
    },
    {
      "cell_type": "code",
      "metadata": {
        "colab": {
          "base_uri": "https://localhost:8080/"
        },
        "id": "j4dGhiVub3YM",
        "outputId": "590e82cc-1199-4ea4-f80f-631590ac070c"
      },
      "source": [
        "all_nodes_L = list(GL.nodes())\n",
        "dfs_interative_path(GL, 1, 17, all_nodes_L)"
      ],
      "execution_count": 88,
      "outputs": [
        {
          "output_type": "execute_result",
          "data": {
            "text/plain": [
              "[1, 2, 3, 12, 11, 7, 6, 10, 15, 14, 18, 17]"
            ]
          },
          "metadata": {},
          "execution_count": 88
        }
      ]
    },
    {
      "cell_type": "markdown",
      "metadata": {
        "id": "4j5XvCIyIgVA"
      },
      "source": [
        "\n",
        "![](https://media.giphy.com/media/obQ0Q8dav3L5S/giphy.gif?cid=ecf05e47uf6uxf8dsgt3dwldm5of26b0okrdnjcs3nfy28xa&rid=giphy.gif&ct=g)\n",
        "\n",
        "**Boa atividade e divirta-se :)**"
      ]
    }
  ]
}