{
  "nbformat": 4,
  "nbformat_minor": 0,
  "metadata": {
    "colab": {
      "name": "03 - Caminhos.ipynb",
      "provenance": [],
      "collapsed_sections": [],
      "include_colab_link": true
    },
    "kernelspec": {
      "name": "python3",
      "display_name": "Python 3"
    },
    "language_info": {
      "name": "python"
    }
  },
  "cells": [
    {
      "cell_type": "markdown",
      "metadata": {
        "id": "view-in-github",
        "colab_type": "text"
      },
      "source": [
        "<a href=\"https://colab.research.google.com/github/adolfoguimaraes/teoriadosgrafos/blob/main/03_Caminhos.ipynb\" target=\"_parent\"><img src=\"https://colab.research.google.com/assets/colab-badge.svg\" alt=\"Open In Colab\"/></a>"
      ]
    },
    {
      "cell_type": "markdown",
      "metadata": {
        "id": "M2ONPf29zqbz"
      },
      "source": [
        "# Caminhos\n",
        "\n",
        "Nesse laboratório vamos abordar alguns conceitos sobre caminhos vistos em sala de aula. Preparados? \n",
        "\n",
        "![](https://media.giphy.com/media/4QFcVnf41d2Lb5I0MK/giphy.gif?cid=ecf05e4785rre5sbp5y94a1vkybn7fy3h8kho3pf00242nmp&rid=giphy.gif&ct=g)"
      ]
    },
    {
      "cell_type": "markdown",
      "metadata": {
        "id": "kOS14XNs0jY-"
      },
      "source": [
        "## Importação e métodos de apoio"
      ]
    },
    {
      "cell_type": "code",
      "metadata": {
        "id": "JU_FKkFizpfU"
      },
      "source": [
        "# importando a biblioteca \n",
        "\n",
        "import networkx as nx\n",
        "\n",
        "# importação da biblioteca para plotagem de gráficos \n",
        "import matplotlib.pyplot as plt"
      ],
      "execution_count": null,
      "outputs": []
    },
    {
      "cell_type": "code",
      "metadata": {
        "id": "G8gcGC1p0bvz"
      },
      "source": [
        "# Função em Python para facilitar a impressão do Grafo. \n",
        "\n",
        "def exibir_grafo(grafo):\n",
        "  options = {\n",
        "      'node_color': '#0080FF',\n",
        "      'edge_color': '#808080',\n",
        "      'node_size': 600,\n",
        "      'width': 2,\n",
        "      'font_color': 'white',\n",
        "      'font_weight': 'bold',\n",
        "      'font_size': 10\n",
        "\n",
        "  }\n",
        "  plt.figure(1)\n",
        "  nx.draw_networkx(\n",
        "      grafo, \n",
        "      pos=nx.spring_layout(grafo), \n",
        "      with_labels=True,\n",
        "      **options\n",
        "  )\n",
        "  plt.show()"
      ],
      "execution_count": null,
      "outputs": []
    },
    {
      "cell_type": "markdown",
      "metadata": {
        "id": "dme4Gvc30go7"
      },
      "source": [
        "# Construindo o grafo"
      ]
    },
    {
      "cell_type": "code",
      "metadata": {
        "colab": {
          "base_uri": "https://localhost:8080/",
          "height": 248
        },
        "id": "c8n7ytAo0fok",
        "outputId": "b41c8baf-35b5-467e-b5d7-848ddc0fa8ed"
      },
      "source": [
        "# Instanciando o objeto Grafo\n",
        "G = nx.Graph()\n",
        "\n",
        "# Adicionando os Vértices\n",
        "G.add_nodes_from([1,2,3,4,5,6,7,8])\n",
        "\n",
        "# Adicionando as Arestas\n",
        "G.add_edges_from([\n",
        "                  (1,2),(1,3),(2,4),(2,5),\n",
        "                  (3,4),(4,5),(4,6),(6,7),(6,8),(7,8)\n",
        "                  ])\n",
        "                 \n",
        "\n",
        "exibir_grafo(G)"
      ],
      "execution_count": null,
      "outputs": [
        {
          "output_type": "display_data",
          "data": {
            "image/png": "[encoded data removed]",
            "text/plain": [
              "<Figure size 432x288 with 1 Axes>"
            ]
          },
          "metadata": {}
        }
      ]
    },
    {
      "cell_type": "code",
      "metadata": {
        "colab": {
          "base_uri": "https://localhost:8080/",
          "height": 248
        },
        "id": "Qxa5E-ru4uEj",
        "outputId": "26115326-bcb9-4486-f3cd-d46d08656ffb"
      },
      "source": [
        "# Construindo um segundo grafo\n",
        "\n",
        "G1 = nx.Graph()\n",
        "\n",
        "G1.add_nodes_from([1,2,3,4,5,6])\n",
        "\n",
        "G1.add_edges_from([\n",
        "                  (1,2),(1,4),(1,5),(1,6),\n",
        "                  (2,3),\n",
        "                  (3,4),\n",
        "                  (4,5),(4,6)\n",
        "                  ])\n",
        "\n",
        "exibir_grafo(G1)"
      ],
      "execution_count": null,
      "outputs": [
        {
          "output_type": "display_data",
          "data": {
            "image/png": "[encoded data removed]",
            "text/plain": [
              "<Figure size 432x288 with 1 Axes>"
            ]
          },
          "metadata": {}
        }
      ]
    },
    {
      "cell_type": "code",
      "metadata": {
        "colab": {
          "base_uri": "https://localhost:8080/",
          "height": 248
        },
        "id": "4lrL7XBeb4n-",
        "outputId": "22a43da9-96da-446c-f24d-d15b08dcd62d"
      },
      "source": [
        "G2 = nx.Graph()\n",
        "\n",
        "G2.add_nodes_from([1,2,3,4,5,6,7,8,9,10,11,12])\n",
        "G2.add_edges_from([\n",
        "                   (1,2),(1,3),\n",
        "                   (2,3),(2,5),(2,6),\n",
        "                   (3,4),(3,6),\n",
        "                   (4,7),\n",
        "                   (5,6),(5,9),(5,10),\n",
        "                   (6,7),(6,10),(6,11),\n",
        "                   (7,8),(7,12),\n",
        "                   (8,12),\n",
        "                   (9,10),\n",
        "                   (10,11),\n",
        "])\n",
        "\n",
        "exibir_grafo(G2)"
      ],
      "execution_count": null,
      "outputs": [
        {
          "output_type": "display_data",
          "data": {
            "image/png": "[encoded data removed]",
            "text/plain": [
              "<Figure size 432x288 with 1 Axes>"
            ]
          },
          "metadata": {}
        }
      ]
    },
    {
      "cell_type": "markdown",
      "metadata": {
        "id": "rX5fv8So0u0R"
      },
      "source": [
        "## Grafo Euleriano\n",
        "\n",
        "![](https://media.giphy.com/media/8qUjDf9PZlHZ6/giphy.gif?cid=ecf05e47tmvttgnx8d534qywcz38epe6d11ujhbh3xsmiiu3&rid=giphy.gif&ct=g)\n",
        "\n",
        "Nossa primeira implementação vai ser a criação de um método que dado um grafo, verifica se ele é Euleriano. A gente viu em sala de aula que para um grafo ser Eureliano, ele deve possui um circuito euleriano. \n",
        "\n",
        "Uma forma simples de fazer isso é verificar se todos os vértices do grafo possuem grau par. Vale lembrar, que o grau de um vértice é a quantidade de arestas conectadas a ele, no caso de um grafo não-direcionado.\n",
        "\n",
        "Vamos lá?\n",
        "\n"
      ]
    },
    {
      "cell_type": "code",
      "metadata": {
        "id": "XGwmRahU12uE"
      },
      "source": [
        "# retorna o grau de um vértice\n",
        "def degree_(graph_, node):\n",
        "  return len(list(nx.neighbors(graph_, node)))"
      ],
      "execution_count": null,
      "outputs": []
    },
    {
      "cell_type": "code",
      "metadata": {
        "id": "6kOHEcd00r06"
      },
      "source": [
        "# retorna True se o grafo é euleriano e False, caso contrário\n",
        "def is_eulerian(graph_):\n",
        "\n",
        "  for node in list(graph_.nodes):\n",
        "    if degree_(graph_, node) % 2 != 0:\n",
        "      return False\n",
        "    \n",
        "  return True\n",
        "\n"
      ],
      "execution_count": null,
      "outputs": []
    },
    {
      "cell_type": "code",
      "metadata": {
        "colab": {
          "base_uri": "https://localhost:8080/"
        },
        "id": "mW5IsMWB3Ee6",
        "outputId": "9c51129f-2a8f-4181-fe84-08c797c633d9"
      },
      "source": [
        "is_eulerian(G1)"
      ],
      "execution_count": null,
      "outputs": [
        {
          "output_type": "execute_result",
          "data": {
            "text/plain": [
              "True"
            ]
          },
          "metadata": {},
          "execution_count": 8
        }
      ]
    },
    {
      "cell_type": "code",
      "metadata": {
        "colab": {
          "base_uri": "https://localhost:8080/"
        },
        "id": "eAPLq27V3rOO",
        "outputId": "6514f096-57ea-4a68-8d42-4b4135764734"
      },
      "source": [
        "is_eulerian(G)"
      ],
      "execution_count": null,
      "outputs": [
        {
          "output_type": "execute_result",
          "data": {
            "text/plain": [
              "False"
            ]
          },
          "metadata": {},
          "execution_count": 9
        }
      ]
    },
    {
      "cell_type": "markdown",
      "metadata": {
        "id": "79-6SHqz55cj"
      },
      "source": [
        "Agora que a gente já sabe identificar se o Grafo é Euleriano ou não podemos implementar um método que retorna esse caminho.\n",
        "\n",
        "### E aí? Aceitam esse desafio? \n",
        "\n",
        "![](https://media.giphy.com/media/Su5akvPQ4p3GpP3YHK/giphy.gif?cid=ecf05e47zcxvg2xeshgz2lj3z2ygraxk7v80cwcayoqorkxv&rid=giphy.gif&ct=g)\n",
        "\n",
        "### Vamos pensar um pouquinho na técnica estudada. \n",
        "\n",
        "![](https://media.giphy.com/media/3o7btPCcdNniyf0ArS/giphy-downsized.gif?cid=ecf05e47jufc8js9cb1k8w85n4d5tppw6l04x4uwlnmnfrif&rid=giphy-downsized.gif)\n",
        "\n",
        "O algoritmo estudado foi o Algoritmo de Hierholzer que consiste em encontrar vários ciclos de depois combina-los em um caminho que seria o caminho Euleriano. Lembrando que isso só é possível se o grafo for Euleriano. Vamos organizar a nossa implementação da seguinte forma: \n",
        "\n",
        "* Primeiro vamos testar se o grafo é euleriano ou não. Caso não seja, retornamos a mensagem informando que não é possível encontrar o circuito. Caso seja, retornamos o caminho. \n",
        "* Em seguida, vamos implementar um método que faz uma busca no grafo até formar um ciclo. Lembrando que esse ciclo deve ser formado sempre passando por arestas que ainda não foram visitadas. Esse método deve ser utilizado para encontrar todos os ciclos possíveis de ser formado. \n",
        "* Após essa etapa, vamos criar o método que combina esses ciclos de forma a gerar o caminho euleriano. \n",
        "\n"
      ]
    },
    {
      "cell_type": "code",
      "metadata": {
        "id": "X4lxcIEm54Qy"
      },
      "source": [
        "def eulerian_path(graph_):\n",
        "\n",
        "  if not is_eulerian(graph_):\n",
        "    raise Exception(\"The graph has vertices with odd degree.\")\n",
        "  else:\n",
        "\n",
        "    all_circles = graph_circles(graph_)\n",
        "    path_ = combine_circles(all_circles)    \n",
        "\n",
        "    return path_\n",
        "\n",
        "\n",
        "def get_circle(graph_, start):\n",
        "\n",
        "  \n",
        "  actual_node = start;\n",
        "  list_ = [actual_node]\n",
        "  zero_list = []\n",
        "\n",
        "  while(True):\n",
        "    node_temp = list(nx.neighbors(graph_, actual_node))[0]\n",
        "    list_.append(node_temp)\n",
        "    graph_.remove_edge(actual_node, node_temp)\n",
        "    actual_node = node_temp\n",
        "    \n",
        "    if (actual_node == start):\n",
        "      break\n",
        "\n",
        "  graph_.remove_nodes_from(list(nx.isolates(graph_)))\n",
        "  \n",
        "  return list_\n",
        "\n",
        "def graph_circles(graph_):\n",
        "  \n",
        "  modify_graph = graph_.copy()\n",
        "\n",
        "  lists_ = []\n",
        "\n",
        "  while modify_graph.size() != 0:\n",
        "\n",
        "    start_node = list(modify_graph.nodes)[0]\n",
        "    circle_ = get_circle(modify_graph, start_node)\n",
        "    lists_.append(circle_)\n",
        "\n",
        "  return lists_\n",
        "\n",
        "\n",
        "def combine_two_lists(l1, l2):\n",
        "  if not l2:\n",
        "    return l1\n",
        "  else:\n",
        "    result_ = [l1[0]]\n",
        "    first = True\n",
        "    for value in l1[1:]:\n",
        "      if value == l2[0] and first:\n",
        "        first = False\n",
        "        for value2 in l2:\n",
        "          result_.append(value2)\n",
        "      else:\n",
        "        result_.append(value)\n",
        "    \n",
        "    return result_  \n",
        "\n",
        "def combine_circles(list_):\n",
        "  if len(list_) == 2:\n",
        "    \n",
        "    return combine_two_lists(list_[0], list_[1])\n",
        "  else:\n",
        "    combine_ = combine_two_lists(list_[0], list_[1])\n",
        "    tail_ = list_[2:]\n",
        "    \n",
        "    return combine_circles([combine_] + tail_)\n",
        "\n"
      ],
      "execution_count": null,
      "outputs": []
    },
    {
      "cell_type": "code",
      "metadata": {
        "id": "RXoU9PIvur-5"
      },
      "source": [
        "def imprimir_caminho_euleriano(graph_):\n",
        "  exibir_grafo(graph_)\n",
        "  try:\n",
        "    path_ = eulerian_path(graph_)\n",
        "    print(\"Caminho euleriano: %s\" % path_)\n",
        "  except Exception as e:\n",
        "    print(\"Não é possível gerar o caminho euleriano para o grafo passado.\")\n"
      ],
      "execution_count": null,
      "outputs": []
    },
    {
      "cell_type": "code",
      "metadata": {
        "colab": {
          "base_uri": "https://localhost:8080/",
          "height": 265
        },
        "id": "YJIJnr7tuimI",
        "outputId": "a13a0c5b-6ea3-4a7b-a087-243293db66cd"
      },
      "source": [
        "imprimir_caminho_euleriano(G)"
      ],
      "execution_count": null,
      "outputs": [
        {
          "output_type": "display_data",
          "data": {
            "image/png": "[encoded data removed]",
            "text/plain": [
              "<Figure size 432x288 with 1 Axes>"
            ]
          },
          "metadata": {}
        },
        {
          "output_type": "stream",
          "name": "stdout",
          "text": [
            "Não é possível gerar o caminho euleriano para o grafo passado.\n"
          ]
        }
      ]
    },
    {
      "cell_type": "code",
      "metadata": {
        "colab": {
          "base_uri": "https://localhost:8080/",
          "height": 265
        },
        "id": "3kXTtcxAuk5s",
        "outputId": "cb6772e6-04fb-4dbd-f54c-677fbe278922"
      },
      "source": [
        "imprimir_caminho_euleriano(G1)"
      ],
      "execution_count": null,
      "outputs": [
        {
          "output_type": "display_data",
          "data": {
            "image/png": "[encoded data removed]",
            "text/plain": [
              "<Figure size 432x288 with 1 Axes>"
            ]
          },
          "metadata": {}
        },
        {
          "output_type": "stream",
          "name": "stdout",
          "text": [
            "Caminho euleriano: [1, 2, 3, 4, 1, 5, 4, 6, 1]\n"
          ]
        }
      ]
    },
    {
      "cell_type": "code",
      "metadata": {
        "colab": {
          "base_uri": "https://localhost:8080/",
          "height": 265
        },
        "id": "zAQfB0mELxU7",
        "outputId": "32de42a2-3dd7-4790-9c0c-fd580afb886a"
      },
      "source": [
        "imprimir_caminho_euleriano(G2)"
      ],
      "execution_count": null,
      "outputs": [
        {
          "output_type": "display_data",
          "data": {
            "image/png": "[encoded data removed]",
            "text/plain": [
              "<Figure size 432x288 with 1 Axes>"
            ]
          },
          "metadata": {}
        },
        {
          "output_type": "stream",
          "name": "stdout",
          "text": [
            "Caminho euleriano: [1, 2, 5, 9, 10, 5, 6, 10, 11, 6, 2, 3, 4, 7, 8, 12, 7, 6, 3, 1]\n"
          ]
        }
      ]
    },
    {
      "cell_type": "markdown",
      "metadata": {
        "id": "HfWnvaWENlnB"
      },
      "source": [
        "# Vamos implementar\n",
        "\n",
        "Agora é sua vez!!!\n",
        "\n",
        "![](https://media.giphy.com/media/cXblnKXr2BQOaYnTni/giphy.gif?cid=ecf05e47tlmhz9i8c593eu0i1jpibaq9mkgtw5tl9vgu9ynu&rid=giphy.gif&ct=g)\n",
        "\n",
        "## 1. Implemente o algoritmo de menor caminho que recebe como parâmetro um vértice e imprime a tabela de menor caminho vista em sala de aula. \n"
      ]
    },
    {
      "cell_type": "markdown",
      "source": [
        "🤖 Vamos tentar? Tente implementar sem olhar a resposta disponível. Agora é sua hora de treinar os algoritmos vistos. "
      ],
      "metadata": {
        "id": "J4pfq96hqC9G"
      }
    },
    {
      "cell_type": "code",
      "source": [
        "#Coloque sua implementação a partir deste espaço"
      ],
      "metadata": {
        "id": "m70Pmprnp_ws"
      },
      "execution_count": null,
      "outputs": []
    },
    {
      "cell_type": "markdown",
      "source": [
        "### Implementação do Professor"
      ],
      "metadata": {
        "id": "3W3zkGN5qIaB"
      }
    },
    {
      "cell_type": "code",
      "metadata": {
        "colab": {
          "base_uri": "https://localhost:8080/",
          "height": 248
        },
        "id": "8CUINkirkK2w",
        "outputId": "9fc9dd35-700a-487e-94ab-880bdb2dd4f9"
      },
      "source": [
        "# Instanciando o objeto Grafo com pesos utilizar no algoritmo de menor caminho\n",
        "G1 = nx.Graph()\n",
        "\n",
        "# Adicionando os Vértices\n",
        "G1.add_nodes_from([\"a\",\"b\",\"c\",\"d\",\"e\",\"f\",\"g\"])\n",
        "\n",
        "# Adicionando as Arestas\n",
        "G1.add_edge(\"a\", \"b\", weight=1)\n",
        "G1.add_edge(\"a\", \"d\", weight=4)\n",
        "G1.add_edge(\"b\", \"c\", weight=2)\n",
        "G1.add_edge(\"b\", \"d\", weight=6)\n",
        "G1.add_edge(\"b\", \"e\", weight=4)\n",
        "G1.add_edge(\"b\", \"f\", weight=8)\n",
        "G1.add_edge(\"c\", \"f\", weight=6)\n",
        "G1.add_edge(\"d\", \"e\", weight=3)\n",
        "G1.add_edge(\"d\", \"g\", weight=4)\n",
        "G1.add_edge(\"e\", \"g\", weight=9)\n",
        "G1.add_edge(\"e\", \"f\", weight=8)\n",
        "G1.add_edge(\"f\", \"g\", weight=3)\n",
        "\n",
        "\n",
        "exibir_grafo(G1)"
      ],
      "execution_count": null,
      "outputs": [
        {
          "output_type": "display_data",
          "data": {
            "image/png": "[encoded data removed]",
            "text/plain": [
              "<Figure size 432x288 with 1 Axes>"
            ]
          },
          "metadata": {}
        }
      ]
    },
    {
      "cell_type": "code",
      "metadata": {
        "id": "P3FdS5Emooaq"
      },
      "source": [
        "# retorna o vértice com o menor valor da distância na tabela\n",
        "# dentre os vértices que ainda não se conhece a menor distância\n",
        "def get_less_table(table):\n",
        "  \n",
        "  selected = {k: v for k, v in table.items() if v['is_less'] == False}\n",
        "  sorted_ = sorted(selected.items(), key=lambda kv: kv[1]['distance'])\n",
        "  \n",
        "  return sorted_[0][0]"
      ],
      "execution_count": null,
      "outputs": []
    },
    {
      "cell_type": "code",
      "metadata": {
        "id": "rxl_y9viq4_s"
      },
      "source": [
        "# Algoritmo de Dijikstra\n",
        "def less_path(graph, v):\n",
        "\n",
        "  table_ = {v: {'is_less': True, 'distance': 0, 'path': ''}}\n",
        "  found_ = [v]\n",
        "  actual_node = v\n",
        "\n",
        "  \n",
        "  while set(found_) != set(list(graph.nodes())):\n",
        "\n",
        "    all_neighbors = [x for x in list(nx.neighbors(graph, actual_node)) if x not in found_]\n",
        "    for neigh in all_neighbors:\n",
        "      new_distance = table_[actual_node]['distance'] + graph.get_edge_data(actual_node, neigh, 'weight')['weight']\n",
        "      if neigh in table_.keys():\n",
        "        if new_distance < table_[neigh]['distance']:\n",
        "          table_[neigh]['distance'] = new_distance\n",
        "          table_[neigh]['path'] = actual_node\n",
        "      else:\n",
        "        table_[neigh] = {'is_less': False, 'distance': new_distance, 'path': actual_node}\n",
        "        \n",
        "      \n",
        "    actual_node = get_less_table(table_)\n",
        "    table_[actual_node]['is_less'] = True\n",
        "    found_.append(actual_node)\n",
        "\n",
        "\n",
        "  return table_\n",
        "\n",
        "  \n"
      ],
      "execution_count": null,
      "outputs": []
    },
    {
      "cell_type": "code",
      "metadata": {
        "colab": {
          "base_uri": "https://localhost:8080/"
        },
        "id": "al4831x6o0s5",
        "outputId": "70d3a9b1-53b5-47f9-b58c-688a182648ef"
      },
      "source": [
        "table_result = less_path(G1, 'a')\n",
        "table_result"
      ],
      "execution_count": null,
      "outputs": [
        {
          "output_type": "execute_result",
          "data": {
            "text/plain": [
              "{'a': {'distance': 0, 'is_less': True, 'path': ''},\n",
              " 'b': {'distance': 1, 'is_less': True, 'path': 'a'},\n",
              " 'c': {'distance': 3, 'is_less': True, 'path': 'b'},\n",
              " 'd': {'distance': 4, 'is_less': True, 'path': 'a'},\n",
              " 'e': {'distance': 5, 'is_less': True, 'path': 'b'},\n",
              " 'f': {'distance': 9, 'is_less': True, 'path': 'b'},\n",
              " 'g': {'distance': 8, 'is_less': True, 'path': 'd'}}"
            ]
          },
          "metadata": {},
          "execution_count": 21
        }
      ]
    },
    {
      "cell_type": "markdown",
      "metadata": {
        "id": "nn_AasEJq8XX"
      },
      "source": [
        "## 2. Implemente uma nova versão do algoritmo de menor caminho que recebe dois vértices como entrada: um vértice de origem e um de destino. O algoritmo deve retornar o menor caminho (os vértices que compõem o caminho e o custo) do vértice dde origem para o de destino. "
      ]
    },
    {
      "cell_type": "markdown",
      "source": [
        "🤖 Vamos tentar? Tente implementar sem olhar a resposta disponível. Agora é sua hora de treinar os algoritmos vistos. "
      ],
      "metadata": {
        "id": "Qa4ZCFhFqNxg"
      }
    },
    {
      "cell_type": "code",
      "source": [
        "#Coloque sua implementação a partir deste espaço"
      ],
      "metadata": {
        "id": "IprUq2scqQas"
      },
      "execution_count": null,
      "outputs": []
    },
    {
      "cell_type": "markdown",
      "source": [
        "### Implementação do Professor"
      ],
      "metadata": {
        "id": "6nMjI8WmqVZG"
      }
    },
    {
      "cell_type": "code",
      "metadata": {
        "id": "IaKgHsfdrTJb"
      },
      "source": [
        "# Algoritmo de Dijikstra\n",
        "def less_path_startend(graph, start, end):\n",
        "\n",
        "  table_ = {start: {'is_less': True, 'distance': 0, 'path': ''}}\n",
        "  found_ = [start]\n",
        "  actual_node = start\n",
        "\n",
        "  \n",
        "  while set(found_) != set(list(graph.nodes())):\n",
        "\n",
        "    all_neighbors = [x for x in list(nx.neighbors(graph, actual_node)) if x not in found_]\n",
        "    for neigh in all_neighbors:\n",
        "      new_distance = table_[actual_node]['distance'] + graph.get_edge_data(actual_node, neigh, 'weight')['weight']\n",
        "      if neigh in table_.keys():\n",
        "        if new_distance < table_[neigh]['distance']:\n",
        "          table_[neigh]['distance'] = new_distance\n",
        "          table_[neigh]['path'] = actual_node\n",
        "      else:\n",
        "        table_[neigh] = {'is_less': False, 'distance': new_distance, 'path': actual_node}\n",
        "        \n",
        "      \n",
        "    actual_node = get_less_table(table_)\n",
        "    table_[actual_node]['is_less'] = True\n",
        "    found_.append(actual_node)\n",
        "\n",
        "    if actual_node == end:\n",
        "      break\n",
        "\n",
        "\n",
        "  return get_path(end, table_), table_[end]['distance']\n",
        "\n",
        "  \n"
      ],
      "execution_count": null,
      "outputs": []
    },
    {
      "cell_type": "code",
      "metadata": {
        "id": "i0ofzwPRqlhk"
      },
      "source": [
        "def get_path(end, table):\n",
        "  return_path = [end]\n",
        "  path_ = table_result[end]['path']\n",
        "  while path_ != '':\n",
        "    return_path.insert(0, path_)\n",
        "    path_ = table_result[path_]['path']\n",
        "\n",
        "  return return_path"
      ],
      "execution_count": null,
      "outputs": []
    },
    {
      "cell_type": "code",
      "metadata": {
        "colab": {
          "base_uri": "https://localhost:8080/"
        },
        "id": "PwciCX6gqVbv",
        "outputId": "08b09a4e-e52a-4a71-8c4a-08f41c40dea4"
      },
      "source": [
        "less_path_startend(G1, 'a', 'f')"
      ],
      "execution_count": null,
      "outputs": [
        {
          "output_type": "execute_result",
          "data": {
            "text/plain": [
              "(['a', 'b', 'f'], 9)"
            ]
          },
          "metadata": {},
          "execution_count": 32
        }
      ]
    },
    {
      "cell_type": "markdown",
      "metadata": {
        "id": "fTrpl3o0DA0j"
      },
      "source": [
        "### Por hoje é só 🤖 \n",
        "\n",
        "![](https://media.giphy.com/media/3o85xAojNshmzlySyc/giphy.gif?cid=ecf05e47rw9bmsnbhmee4nr59vlxjyleffqr9s1dgu9r8bo7&rid=giphy.gif&ct=g)\n",
        "\n",
        "É isso pessoal. Até a próxima aula 😊"
      ]
    }
  ]
}