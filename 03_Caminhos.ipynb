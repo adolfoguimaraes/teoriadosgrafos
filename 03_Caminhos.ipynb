{
  "nbformat": 4,
  "nbformat_minor": 0,
  "metadata": {
    "colab": {
      "name": "03 - Caminhos.ipynb",
      "provenance": [],
      "collapsed_sections": [],
      "include_colab_link": true
    },
    "kernelspec": {
      "name": "python3",
      "display_name": "Python 3"
    },
    "language_info": {
      "name": "python"
    }
  },
  "cells": [
    {
      "cell_type": "markdown",
      "metadata": {
        "id": "view-in-github",
        "colab_type": "text"
      },
      "source": [
        "<a href=\"https://colab.research.google.com/github/adolfoguimaraes/teoriadosgrafos/blob/main/03_Caminhos.ipynb\" target=\"_parent\"><img src=\"https://colab.research.google.com/assets/colab-badge.svg\" alt=\"Open In Colab\"/></a>"
      ]
    },
    {
      "cell_type": "markdown",
      "metadata": {
        "id": "M2ONPf29zqbz"
      },
      "source": [
        "# Caminhos\n",
        "\n",
        "Nesse laboratório vamos abordar alguns conceitos sobre caminhos vistos em sala de aula. Preparados? \n",
        "\n",
        "![](https://media.giphy.com/media/4QFcVnf41d2Lb5I0MK/giphy.gif?cid=ecf05e4785rre5sbp5y94a1vkybn7fy3h8kho3pf00242nmp&rid=giphy.gif&ct=g)"
      ]
    },
    {
      "cell_type": "markdown",
      "metadata": {
        "id": "kOS14XNs0jY-"
      },
      "source": [
        "## Importação e métodos de apoio"
      ]
    },
    {
      "cell_type": "code",
      "metadata": {
        "id": "JU_FKkFizpfU"
      },
      "source": [
        "# importando a biblioteca \n",
        "\n",
        "import networkx as nx\n",
        "\n",
        "# importação da biblioteca para plotagem de gráficos \n",
        "import matplotlib.pyplot as plt"
      ],
      "execution_count": null,
      "outputs": []
    },
    {
      "cell_type": "code",
      "metadata": {
        "id": "G8gcGC1p0bvz"
      },
      "source": [
        "# Função em Python para facilitar a impressão do Grafo. \n",
        "\n",
        "def exibir_grafo(grafo):\n",
        "  options = {\n",
        "      'node_color': '#0080FF',\n",
        "      'edge_color': '#808080',\n",
        "      'node_size': 600,\n",
        "      'width': 2,\n",
        "      'font_color': 'white',\n",
        "      'font_weight': 'bold',\n",
        "      'font_size': 10\n",
        "\n",
        "  }\n",
        "  plt.figure(1)\n",
        "  nx.draw_networkx(\n",
        "      grafo, \n",
        "      pos=nx.spring_layout(grafo), \n",
        "      with_labels=True,\n",
        "      **options\n",
        "  )\n",
        "  plt.show()"
      ],
      "execution_count": null,
      "outputs": []
    },
    {
      "cell_type": "markdown",
      "metadata": {
        "id": "dme4Gvc30go7"
      },
      "source": [
        "# Construindo o grafo"
      ]
    },
    {
      "cell_type": "code",
      "metadata": {
        "colab": {
          "base_uri": "https://localhost:8080/",
          "height": 248
        },
        "id": "c8n7ytAo0fok",
        "outputId": "268169b0-8060-47d5-d17c-8b0de514c89e"
      },
      "source": [
        "# Instanciando o objeto Grafo\n",
        "G = nx.Graph()\n",
        "\n",
        "# Adicionando os Vértices\n",
        "G.add_nodes_from([1,2,3,4,5,6,7,8])\n",
        "\n",
        "# Adicionando as Arestas\n",
        "G.add_edges_from([\n",
        "                  (1,2),(1,3),(2,4),(2,5),\n",
        "                  (3,4),(4,5),(4,6),(6,7),(6,8),(7,8)\n",
        "                  ])\n",
        "                 \n",
        "\n",
        "exibir_grafo(G)"
      ],
      "execution_count": null,
      "outputs": [
        {
          "output_type": "display_data",
          "data": {
            "image/png": "[encoded data removed]",
            "text/plain": [
              "<Figure size 432x288 with 1 Axes>"
            ]
          },
          "metadata": {}
        }
      ]
    },
    {
      "cell_type": "code",
      "metadata": {
        "colab": {
          "base_uri": "https://localhost:8080/",
          "height": 248
        },
        "id": "Qxa5E-ru4uEj",
        "outputId": "dbcdc92b-15ed-431c-8030-50cd1c5a750e"
      },
      "source": [
        "# Construindo um segundo grafo\n",
        "\n",
        "G1 = nx.Graph()\n",
        "\n",
        "G1.add_nodes_from([1,2,3,4,5,6])\n",
        "\n",
        "G1.add_edges_from([\n",
        "                  (1,2),(1,4),(1,5),(1,6),\n",
        "                  (2,3),\n",
        "                  (3,4),\n",
        "                  (4,5),(4,6)\n",
        "                  ])\n",
        "\n",
        "exibir_grafo(G1)"
      ],
      "execution_count": null,
      "outputs": [
        {
          "output_type": "display_data",
          "data": {
            "image/png": "[encoded data removed]",
            "text/plain": [
              "<Figure size 432x288 with 1 Axes>"
            ]
          },
          "metadata": {}
        }
      ]
    },
    {
      "cell_type": "code",
      "metadata": {
        "colab": {
          "base_uri": "https://localhost:8080/",
          "height": 248
        },
        "id": "4lrL7XBeb4n-",
        "outputId": "8d3f19a8-b84c-4c52-9e50-14e52bd08580"
      },
      "source": [
        "G2 = nx.Graph()\n",
        "\n",
        "G2.add_nodes_from([1,2,3,4,5,6,7,8,9,10,11,12])\n",
        "G2.add_edges_from([\n",
        "                   (1,2),(1,3),\n",
        "                   (2,3),(2,5),(2,6),\n",
        "                   (3,4),(3,6),\n",
        "                   (4,7),\n",
        "                   (5,6),(5,9),(5,10),\n",
        "                   (6,7),(6,10),(6,11),\n",
        "                   (7,8),(7,12),\n",
        "                   (8,12),\n",
        "                   (9,10),\n",
        "                   (10,11),\n",
        "])\n",
        "\n",
        "exibir_grafo(G2)"
      ],
      "execution_count": null,
      "outputs": [
        {
          "output_type": "display_data",
          "data": {
            "image/png": "[encoded data removed]",
            "text/plain": [
              "<Figure size 432x288 with 1 Axes>"
            ]
          },
          "metadata": {}
        }
      ]
    },
    {
      "cell_type": "markdown",
      "metadata": {
        "id": "rX5fv8So0u0R"
      },
      "source": [
        "## Grafo Euleriano\n",
        "\n",
        "![](https://media.giphy.com/media/8qUjDf9PZlHZ6/giphy.gif?cid=ecf05e47tmvttgnx8d534qywcz38epe6d11ujhbh3xsmiiu3&rid=giphy.gif&ct=g)\n",
        "\n",
        "Nossa primeira implementação vai ser a criação de um método que dado um grafo, verifica se ele é Euleriano. A gente viu em sala de aula que para um grafo ser Eureliano, ele deve possui um circuito euleriano. \n",
        "\n",
        "Uma forma simples de fazer isso é verificar se todos os vértices do grafo possuem grau par. Vale lembrar, que o grau de um vértice é a quantidade de arestas conectadas a ele, no caso de um grafo não-direcionado.\n",
        "\n",
        "Vamos lá?\n",
        "\n"
      ]
    },
    {
      "cell_type": "code",
      "metadata": {
        "id": "XGwmRahU12uE"
      },
      "source": [
        "# retorna o grau de um vértice\n",
        "def degree_(graph_, node):\n",
        "  return len(list(nx.neighbors(graph_, node)))"
      ],
      "execution_count": null,
      "outputs": []
    },
    {
      "cell_type": "code",
      "metadata": {
        "id": "6kOHEcd00r06"
      },
      "source": [
        "# retorna True se o grafo é euleriano e False, caso contrário\n",
        "def is_eulerian(graph_):\n",
        "\n",
        "  for node in list(graph_.nodes):\n",
        "    if degree_(graph_, node) % 2 != 0:\n",
        "      return False\n",
        "    \n",
        "  return True\n",
        "\n"
      ],
      "execution_count": null,
      "outputs": []
    },
    {
      "cell_type": "code",
      "metadata": {
        "colab": {
          "base_uri": "https://localhost:8080/"
        },
        "id": "mW5IsMWB3Ee6",
        "outputId": "889bef2f-dedf-424c-d65f-966817d5463f"
      },
      "source": [
        "is_eulerian(G1)"
      ],
      "execution_count": null,
      "outputs": [
        {
          "output_type": "execute_result",
          "data": {
            "text/plain": [
              "True"
            ]
          },
          "metadata": {},
          "execution_count": 8
        }
      ]
    },
    {
      "cell_type": "code",
      "metadata": {
        "colab": {
          "base_uri": "https://localhost:8080/"
        },
        "id": "eAPLq27V3rOO",
        "outputId": "b5c9e6ba-a1c0-4e2a-e16e-207a3b4e88e5"
      },
      "source": [
        "is_eulerian(G)"
      ],
      "execution_count": null,
      "outputs": [
        {
          "output_type": "execute_result",
          "data": {
            "text/plain": [
              "False"
            ]
          },
          "metadata": {},
          "execution_count": 9
        }
      ]
    },
    {
      "cell_type": "markdown",
      "metadata": {
        "id": "79-6SHqz55cj"
      },
      "source": [
        "Agora que a gente já sabe identificar se o Grafo é Euleriano ou não podemos implementar um método que retorna esse caminho.\n",
        "\n",
        "### E aí? Aceitam esse desafio? \n",
        "\n",
        "![](https://media.giphy.com/media/Su5akvPQ4p3GpP3YHK/giphy.gif?cid=ecf05e47zcxvg2xeshgz2lj3z2ygraxk7v80cwcayoqorkxv&rid=giphy.gif&ct=g)\n",
        "\n",
        "### Vamos pensar um pouquinho na técnica estudada. \n",
        "\n",
        "![](https://media.giphy.com/media/3o7btPCcdNniyf0ArS/giphy-downsized.gif?cid=ecf05e47jufc8js9cb1k8w85n4d5tppw6l04x4uwlnmnfrif&rid=giphy-downsized.gif)\n",
        "\n",
        "O algoritmo estudado foi o Algoritmo de Hierholzer que consiste em encontrar vários ciclos de depois combina-los em um caminho que seria o caminho Euleriano. Lembrando que isso só é possível se o grafo for Euleriano. Vamos organizar a nossa implementação da seguinte forma: \n",
        "\n",
        "* Primeiro vamos testar se o grafo é euleriano ou não. Caso não seja, retornamos a mensagem informando que não é possível encontrar o circuito. Caso seja, retornamos o caminho. \n",
        "* Em seguida, vamos implementar um método que faz uma busca no grafo até formar um ciclo. Lembrando que esse ciclo deve ser formado sempre passando por arestas que ainda não foram visitadas. Esse método deve ser utilizado para encontrar todos os ciclos possíveis de ser formado. \n",
        "* Após essa etapa, vamos criar o método que combina esses ciclos de forma a gerar o caminho euleriano. \n",
        "\n"
      ]
    },
    {
      "cell_type": "code",
      "metadata": {
        "id": "X4lxcIEm54Qy"
      },
      "source": [
        "def eulerian_path(graph_):\n",
        "\n",
        "  if not is_eulerian(graph_):\n",
        "    raise Exception(\"The graph has vertices with odd degree.\")\n",
        "  else:\n",
        "\n",
        "    all_circles = graph_circles(graph_)\n",
        "    path_ = combine_circles(all_circles)    \n",
        "\n",
        "    return path_\n",
        "\n",
        "\n",
        "def get_circle(graph_, start):\n",
        "\n",
        "  \n",
        "  actual_node = start;\n",
        "  list_ = [actual_node]\n",
        "  zero_list = []\n",
        "\n",
        "  while(True):\n",
        "    node_temp = list(nx.neighbors(graph_, actual_node))[0]\n",
        "    list_.append(node_temp)\n",
        "    graph_.remove_edge(actual_node, node_temp)\n",
        "    actual_node = node_temp\n",
        "    \n",
        "    if (actual_node == start):\n",
        "      break\n",
        "\n",
        "  graph_.remove_nodes_from(list(nx.isolates(graph_)))\n",
        "  \n",
        "  return list_\n",
        "\n",
        "def graph_circles(graph_):\n",
        "  \n",
        "  modify_graph = graph_.copy()\n",
        "\n",
        "  lists_ = []\n",
        "\n",
        "  while modify_graph.size() != 0:\n",
        "\n",
        "    start_node = list(modify_graph.nodes)[0]\n",
        "    circle_ = get_circle(modify_graph, start_node)\n",
        "    lists_.append(circle_)\n",
        "\n",
        "  return lists_\n",
        "\n",
        "\n",
        "def combine_two_lists(l1, l2):\n",
        "  if not l2:\n",
        "    return l1\n",
        "  else:\n",
        "    result_ = [l1[0]]\n",
        "    first = True\n",
        "    for value in l1[1:]:\n",
        "      if value == l2[0] and first:\n",
        "        first = False\n",
        "        for value2 in l2:\n",
        "          result_.append(value2)\n",
        "      else:\n",
        "        result_.append(value)\n",
        "    \n",
        "    return result_  \n",
        "\n",
        "def combine_circles(list_):\n",
        "  if len(list_) == 2:\n",
        "    \n",
        "    return combine_two_lists(list_[0], list_[1])\n",
        "  else:\n",
        "    combine_ = combine_two_lists(list_[0], list_[1])\n",
        "    tail_ = list_[2:]\n",
        "    \n",
        "    return combine_circles([combine_] + tail_)\n",
        "\n"
      ],
      "execution_count": null,
      "outputs": []
    },
    {
      "cell_type": "code",
      "metadata": {
        "id": "RXoU9PIvur-5"
      },
      "source": [
        "def imprimir_caminho_euleriano(graph_):\n",
        "  exibir_grafo(graph_)\n",
        "  try:\n",
        "    path_ = eulerian_path(graph_)\n",
        "    print(\"Caminho euleriano: %s\" % path_)\n",
        "  except Exception as e:\n",
        "    print(\"Não é possível gerar o caminho euleriano para o grafo passado.\")\n"
      ],
      "execution_count": null,
      "outputs": []
    },
    {
      "cell_type": "code",
      "metadata": {
        "colab": {
          "base_uri": "https://localhost:8080/",
          "height": 265
        },
        "id": "YJIJnr7tuimI",
        "outputId": "9d0d9287-8f64-4c89-8dac-bde935d69869"
      },
      "source": [
        "imprimir_caminho_euleriano(G)"
      ],
      "execution_count": null,
      "outputs": [
        {
          "output_type": "display_data",
          "data": {
            "image/png": "[encoded data removed]",
            "text/plain": [
              "<Figure size 432x288 with 1 Axes>"
            ]
          },
          "metadata": {}
        },
        {
          "output_type": "stream",
          "name": "stdout",
          "text": [
            "Não é possível gerar o caminho euleriano para o grafo passado.\n"
          ]
        }
      ]
    },
    {
      "cell_type": "code",
      "metadata": {
        "colab": {
          "base_uri": "https://localhost:8080/",
          "height": 265
        },
        "id": "3kXTtcxAuk5s",
        "outputId": "7466f95d-5843-4ba0-b65b-c024b0fb01c4"
      },
      "source": [
        "imprimir_caminho_euleriano(G1)"
      ],
      "execution_count": null,
      "outputs": [
        {
          "output_type": "display_data",
          "data": {
            "image/png": "[encoded data removed]",
            "text/plain": [
              "<Figure size 432x288 with 1 Axes>"
            ]
          },
          "metadata": {}
        },
        {
          "output_type": "stream",
          "name": "stdout",
          "text": [
            "Caminho euleriano: [1, 2, 3, 4, 1, 5, 4, 6, 1]\n"
          ]
        }
      ]
    },
    {
      "cell_type": "code",
      "metadata": {
        "colab": {
          "base_uri": "https://localhost:8080/",
          "height": 265
        },
        "id": "zAQfB0mELxU7",
        "outputId": "b623dfc0-d1e5-4a92-c4c9-924a6f4cff4d"
      },
      "source": [
        "imprimir_caminho_euleriano(G2)"
      ],
      "execution_count": null,
      "outputs": [
        {
          "output_type": "display_data",
          "data": {
            "image/png": "[encoded data removed]",
            "text/plain": [
              "<Figure size 432x288 with 1 Axes>"
            ]
          },
          "metadata": {}
        },
        {
          "output_type": "stream",
          "name": "stdout",
          "text": [
            "Caminho euleriano: [1, 2, 5, 9, 10, 5, 6, 10, 11, 6, 2, 3, 4, 7, 8, 12, 7, 6, 3, 1]\n"
          ]
        }
      ]
    },
    {
      "cell_type": "markdown",
      "metadata": {
        "id": "HfWnvaWENlnB"
      },
      "source": [
        "# Trabalho Prático: Attividade 2\n",
        "\n",
        "Agora é sua vez!!!\n",
        "\n",
        "![](https://media.giphy.com/media/cXblnKXr2BQOaYnTni/giphy.gif?cid=ecf05e47tlmhz9i8c593eu0i1jpibaq9mkgtw5tl9vgu9ynu&rid=giphy.gif&ct=g)\n",
        "\n",
        "## 1. Implemente o algoritmo de menor caminho que recebe como parâmetro um vértice e imprime a tabela de menor caminho vista em sala de aula. \n"
      ]
    },
    {
      "cell_type": "code",
      "metadata": {
        "id": "rxl_y9viq4_s"
      },
      "source": [
        "# Insira sua solução a partir deste ponto."
      ],
      "execution_count": null,
      "outputs": []
    },
    {
      "cell_type": "markdown",
      "metadata": {
        "id": "nn_AasEJq8XX"
      },
      "source": [
        "## 2. Implemente uma nova versão do algoritmo de menor caminho que recebe dois vértices como entrada: um vértice de origem e um de destino. O algoritmo deve retornar o menor caminho (os vértices que compõem o caminho e o custo) do vértice dde origem para o de destino. "
      ]
    },
    {
      "cell_type": "code",
      "metadata": {
        "id": "IaKgHsfdrTJb"
      },
      "source": [
        "# Insira sua solução a partir deste ponto."
      ],
      "execution_count": null,
      "outputs": []
    }
  ]
}