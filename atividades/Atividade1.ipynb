{
 "cells": [
  {
   "cell_type": "markdown",
   "metadata": {},
   "source": [
    "# Atividade 1 \n",
    "\n",
    "Agora é com vocês. Nessa atividade vocês vão utilizar os métodos implementados nas aulas para resolver alguns problemas relacionados à teoria dos grafos. Preparados? \n",
    "\n",
    "Para que vocês entendam como funciona, o primeiro problema já está resolvido. Vamos no passo a passo para entender como saímos da descrição e utilizamos um método já implementdo para resolvê-lo. \n",
    "\n",
    "<img src=\"https://media.giphy.com/media/CjmvTCZf2U3p09Cn0h/giphy.gif\" width=\"30%\" />"
   ]
  },
  {
   "cell_type": "code",
   "execution_count": 2,
   "metadata": {},
   "outputs": [],
   "source": [
    "# importando a biblioteca \n",
    "\n",
    "import networkx as nx\n",
    "import math\n",
    "\n",
    "# importação da biblioteca para plotagem de gráficos \n",
    "import matplotlib.pyplot as plt\n"
   ]
  },
  {
   "cell_type": "code",
   "execution_count": 84,
   "metadata": {},
   "outputs": [],
   "source": [
    "def exibir_grafo_q1(grafo):\n",
    "  \n",
    "  \n",
    "\n",
    "  colors = ['red' if grafo[u][v]['asfaltada'] == False else 'green' for u,v in grafo.edges()]\n",
    "\n",
    "  options = {\n",
    "      'node_color': 'darkblue',\n",
    "      'edge_color': colors,\n",
    "      'node_size': 600,\n",
    "      'width': 2,\n",
    "      'font_color': 'white',\n",
    "      'font_weight': 'bold',\n",
    "      'font_size': 10\n",
    "\n",
    "  }\n",
    "\n",
    "  plt.figure(1)\n",
    "  \n",
    "  nx.draw_networkx(\n",
    "      grafo, \n",
    "      pos=nx.spring_layout(grafo), \n",
    "      with_labels=True,\n",
    "      **options\n",
    "  )\n",
    "\n",
    "  \n",
    "  plt.show()"
   ]
  },
  {
   "cell_type": "code",
   "execution_count": 90,
   "metadata": {},
   "outputs": [],
   "source": [
    "def exibir_grafo_q2(grafo):\n",
    "  \n",
    "  \n",
    "\n",
    "  options = {\n",
    "      'node_color': 'darkblue',\n",
    "      'edge_color': '#808080',\n",
    "      'node_size': 600,\n",
    "      'width': 2,\n",
    "      'font_color': 'white',\n",
    "      'font_weight': 'bold',\n",
    "      'font_size': 10\n",
    "\n",
    "  }\n",
    "  plt.figure(1)\n",
    "  \n",
    "  nx.draw_networkx(\n",
    "      grafo, \n",
    "      pos=nx.spring_layout(grafo), \n",
    "      with_labels=True,\n",
    "      **options\n",
    "  )\n",
    "\n",
    "  labels = nx.get_edge_attributes(grafo,'impacto')   \n",
    "\n",
    "  nx.draw_networkx_edge_labels(grafo, pos=nx.spring_layout(grafo), edge_labels=labels)\n",
    "\n",
    "  \n",
    "  plt.show()"
   ]
  },
  {
   "cell_type": "code",
   "execution_count": 85,
   "metadata": {},
   "outputs": [],
   "source": [
    "def exibir_grafo_q3(grafo):\n",
    "  options = {\n",
    "      'node_color': 'darkblue',\n",
    "      'edge_color': '#808080',\n",
    "      'node_size': 600,\n",
    "      'width': 2,\n",
    "      'font_color': 'white',\n",
    "      'font_weight': 'bold',\n",
    "      'font_size': 10\n",
    "\n",
    "  }\n",
    "  plt.figure(1)\n",
    "  \n",
    "  nx.draw_networkx(\n",
    "      grafo, \n",
    "      pos=nx.spring_layout(grafo), \n",
    "      with_labels=True,\n",
    "      **options\n",
    "  )\n",
    "\n",
    "  \n",
    "  plt.show()"
   ]
  },
  {
   "cell_type": "code",
   "execution_count": 96,
   "metadata": {},
   "outputs": [],
   "source": [
    "def exibir_grafo_q4(grafo):\n",
    "  options = {\n",
    "      'node_color': 'darkblue',\n",
    "      'edge_color': '#808080',\n",
    "      'node_size': 600,\n",
    "      'width': 2,\n",
    "      'font_color': 'white',\n",
    "      'font_weight': 'bold',\n",
    "      'font_size': 10\n",
    "\n",
    "  }\n",
    "  plt.figure(1)\n",
    "  \n",
    "  nx.draw_networkx(\n",
    "      grafo, \n",
    "      pos=nx.spring_layout(grafo), \n",
    "      with_labels=True,\n",
    "      **options\n",
    "  )\n",
    "\n",
    "  \n",
    "  plt.show()"
   ]
  },
  {
   "cell_type": "markdown",
   "metadata": {},
   "source": [
    "## Problema 1 \n",
    "\n",
    "Um empresa está fazendo o mapeamento de uma região composta por conjuntos de casas que podem ser conectadas por estradas asfaltadas e estradas sem asfalto. O objetivo é agrupar qual conjunto de casas estão conectadas direta ou indiretamente por meio de estradas asfaltadas. A imagem a seguir representa uma imagem da região. \n",
    "\n",
    "<img src=\"https://data2learning.com/static_imgs/grafos_img1.png\" />\n",
    "\n",
    "Cada vértice representa um conjunto de casas. As arestas pontilhadas representam as estradas sem asfalto, as demais são estradas com asfalto. \n",
    "\n",
    "Implemente um algoritmo com base nos algoritmos estudados que permita identificar o conjunto de casas que estão conectados por estradas asfaltadas. Considere que seu algoritmo recebe como entrada um grafo da região com uma indicação em cada aresta que indique se aquela aresta está asfaltada ou não. \n",
    "\n",
    "O grafo está mapeado a seguir:\n",
    "\n",
    "*As arestas verdes são as asfaltadas e as vermelhas as não asfaltadas*"
   ]
  },
  {
   "cell_type": "code",
   "execution_count": 53,
   "metadata": {},
   "outputs": [
    {
     "data": {
      "image/png": "[encoded data removed]",
      "text/plain": [
       "<Figure size 432x288 with 1 Axes>"
      ]
     },
     "metadata": {},
     "output_type": "display_data"
    }
   ],
   "source": [
    "# Instanciando o objeto Grafo\n",
    "G1 = nx.Graph()\n",
    "\n",
    "# Adicionando os Vértices\n",
    "G1.add_nodes_from([\"C1\",\"C2\",\"C3\",\"C4\",\"C5\",\"C6\",\"C7\",\"C8\",\"C9\"])\n",
    "\n",
    "# Adicionando as Arestas\n",
    "G1.add_edge(\"C1\", \"C2\", asfaltada=False)\n",
    "G1.add_edge(\"C1\", \"C4\", asfaltada=True)\n",
    "G1.add_edge(\"C2\", \"C3\", asfaltada=True)\n",
    "G1.add_edge(\"C2\", \"C5\", asfaltada=True)\n",
    "G1.add_edge(\"C3\", \"C5\", asfaltada=False)\n",
    "G1.add_edge(\"C3\", \"C6\", asfaltada=False)\n",
    "G1.add_edge(\"C4\", \"C5\", asfaltada=False)\n",
    "G1.add_edge(\"C4\", \"C7\", asfaltada=True)\n",
    "G1.add_edge(\"C5\", \"C6\", asfaltada=True)\n",
    "G1.add_edge(\"C5\", \"C8\", asfaltada=False)\n",
    "G1.add_edge(\"C5\", \"C9\", asfaltada=False)\n",
    "G1.add_edge(\"C6\", \"C9\", asfaltada=False)\n",
    "G1.add_edge(\"C7\", \"C8\", asfaltada=True)\n",
    "G1.add_edge(\"C8\", \"C9\", asfaltada=False)\n",
    "\n",
    "\n",
    "exibir_grafo_q1(G1)\n"
   ]
  },
  {
   "cell_type": "markdown",
   "metadata": {},
   "source": [
    "**Como podemos resolver esse problema?**\n",
    "\n",
    "<img src=\"https://media.giphy.com/media/aTeHNLRLrwwwM/giphy.gif\" />"
   ]
  },
  {
   "cell_type": "markdown",
   "metadata": {},
   "source": [
    "A gente viu em sala de aula que podemos usar os algoritmos de busca em largura ou busca em profundidade para encontrar os componentes conexos de um grafo. Ou seja, encontrar dentro de um grafo desconexo aqueles componentes que são conexos. Se a gente tivesso grafo sem as arestas em vermelho, podíamos aplicar diretamente essa técnica para resolver. O que não é o caso, o nosso grafo é conexo e tem as arestas asfaltadas e não-asfaltadas. \n",
    "\n",
    "No entanto, ainda podemos usar essa abordagem se modificarmos nosso algoritmo de busca para andar somene por arestas que estão asfaltadas. Lembre que temos essa informação como um atributo da arestas. Sendo assim, nossa proposta é: \n",
    "\n",
    "* Usar o algoritmo de busca em profundidade (podia ser o de busca em largura também);\n",
    "* Modificar o algoritmo de busca para que ele considere como adjacente somente as arestas asfaltadas (lembre que tempos essa informação);\n",
    "* Aplicar o algoritmo ao grafo salvando a lista de vértices cada vez que a pilha fica vazia.\n",
    "\n",
    "Vamos implementar ;) "
   ]
  },
  {
   "cell_type": "code",
   "execution_count": 66,
   "metadata": {},
   "outputs": [],
   "source": [
    "## Código do Algoritmo de Busca\n",
    "\n",
    "\n",
    "# Função nova implementada que retorna se a aresta está asfaltada ou não\n",
    "def get_info_asfaltada(grafo, v1, v2):\n",
    "    return grafo.get_edge_data(v1, v2, 'asfaltada')['asfaltada']\n",
    "\n",
    "\n",
    "# Função que retorna um vértice adjacente não-visitado\n",
    "# de um vértice passado como parâmetro\n",
    "\n",
    "def get_no_visted_neighbors(graph_, node, v):\n",
    "  neighbors_node = [x for x in list(nx.neighbors(graph_, node)) if x not in v and get_info_asfaltada(graph_, node, x)] # <-- A modificação será feita nessa parte \n",
    "  if len(neighbors_node) > 0: return neighbors_node[0]\n",
    "  else: None\n",
    "\n",
    "def dfs(graph):\n",
    "\n",
    "  not_visited = list(graph.nodes())\n",
    "  count = 1\n",
    "  while len(not_visited) > 0:\n",
    "    node_start = not_visited[0]\n",
    "    visited, explored = dfs_interative(graph, node_start, not_visited)\n",
    "    print(\"Grupo %i: %s\" % (count, visited)) # <-- Modifiquei aqui para imprimir os grupos.\n",
    "    count += 1\n",
    "    \n",
    "\n",
    "def dfs_interative(graph, v, list_not_visited):\n",
    "\n",
    "  stack_ = []\n",
    "  visited_ = []\n",
    "  explored_ = []\n",
    "\n",
    "  stack_.append(v)\n",
    "  visited_.append(v)\n",
    "  list_not_visited.remove(v)\n",
    "\n",
    "  while len(stack_) > 0:\n",
    "    top_stack = stack_[-1]\n",
    "    node_not_visited = get_no_visted_neighbors(graph, top_stack, visited_)\n",
    "    if node_not_visited:\n",
    "      stack_.append(node_not_visited)\n",
    "      visited_.append(node_not_visited)\n",
    "      list_not_visited.remove(node_not_visited)\n",
    "    else:\n",
    "      explored_.append(stack_.pop())\n",
    "\n",
    "  return visited_, explored_\n"
   ]
  },
  {
   "cell_type": "markdown",
   "metadata": {},
   "source": [
    "Ao aplicar a busca em profundidade no grafo, temos exatamente os grupos que são conectados somente por estradas asfaltadas. "
   ]
  },
  {
   "cell_type": "code",
   "execution_count": 67,
   "metadata": {},
   "outputs": [
    {
     "name": "stdout",
     "output_type": "stream",
     "text": [
      "Grupo 1: ['C1', 'C4', 'C7', 'C8']\n",
      "Grupo 2: ['C2', 'C3', 'C5', 'C6']\n",
      "Grupo 3: ['C9']\n"
     ]
    }
   ],
   "source": [
    "dfs(G1)"
   ]
  },
  {
   "cell_type": "markdown",
   "metadata": {},
   "source": [
    "**Agora é com vocês**\n",
    "\n",
    "<img src=\"https://media.giphy.com/media/wSEfdRVws2Hoo4aOEE/giphy.gif\" />"
   ]
  },
  {
   "cell_type": "markdown",
   "metadata": {},
   "source": [
    "## Problema 2\n",
    "\n",
    "Os caciques de uma região pretendem integrar suas tribos à chamada “aldeia global”. A primeira providência foi a distribuição de telefones celulares a todos os pajés. Agora, os caciques planejam montar uma rede de fibra ótica interligando todas as tabas. Esta empreitada requer que sejam abertas novas picadas na mata, passando por reservas de flora e fauna. Conscientes da necessidade de preservar o máximo possível o meio ambiente, os caciques encomendaram um estudo do impacto ambiental do projeto. Será que você consegue ajudá-los a projetar a rede de fibra ótica? Vamos denominar uma ligação de fibra ótica entre duas tabas de um ramo de rede. Para possibilitar a comunicação entre todas as tabas é necessário que todas elas estejam interligadas, direta (utilizando um ramo de rede) ou indiretamente (utilizando mais de um ramo). Os caciques conseguiram a informação do impacto ambiental que causará a construção dos ramos. Alguns ramos, no entanto, nem foram considerados no estudo ambiental, pois sua construção é impossível. A imagem a seguir mostrar a estrutura atual da aldeia. Os vértices representam as tabas e as arestas as possíveis conexões de redes com um valor que mede o impacto ambiental da construção da rede. Quanto maior o valor, maior o impacto ambiental.\n",
    "\n",
    "<img src=\"https://data2learning.com/static_imgs/grafos_img3.png\" />\n",
    "\n",
    "O grafo acima está representado no grafo a seguir: "
   ]
  },
  {
   "cell_type": "code",
   "execution_count": 91,
   "metadata": {},
   "outputs": [
    {
     "data": {
      "image/png": "[encoded data removed]",
      "text/plain": [
       "<Figure size 432x288 with 1 Axes>"
      ]
     },
     "metadata": {},
     "output_type": "display_data"
    }
   ],
   "source": [
    "# Instanciando o objeto Grafo\n",
    "G2 = nx.Graph()\n",
    "\n",
    "# Adicionando os Vértices\n",
    "G2.add_nodes_from([\"A1\",\"A2\",\"A3\",\"A4\",\"A5\"])\n",
    "\n",
    "# Adicionando as Arestas\n",
    "G2.add_edge(\"A1\",\"A2\", impacto=15)\n",
    "G2.add_edge(\"A1\",\"A3\", impacto=12)\n",
    "G2.add_edge(\"A2\",\"A3\", impacto=6)\n",
    "G2.add_edge(\"A2\",\"A4\", impacto=13)\n",
    "G2.add_edge(\"A2\",\"A5\", impacto=5)\n",
    "G2.add_edge(\"A3\",\"A4\", impacto=6)\n",
    "\n",
    "\n",
    "\n",
    "exibir_grafo_q2(G2)\n"
   ]
  },
  {
   "cell_type": "markdown",
   "metadata": {},
   "source": [
    "*Explique qual algoritmo vocês vão utilizaar para resolver o problema e quais modificações serão feitas se necessário*"
   ]
  },
  {
   "cell_type": "code",
   "execution_count": 92,
   "metadata": {},
   "outputs": [],
   "source": [
    "# Copie e cole nessa célula o algoritmo que será utilizado. Modifique-o e indique as linhas que serão modificadas.\n"
   ]
  },
  {
   "cell_type": "code",
   "execution_count": 93,
   "metadata": {},
   "outputs": [],
   "source": [
    "# Aplique o algoritmo ao grafo G2 e mostre o resultado. "
   ]
  },
  {
   "cell_type": "markdown",
   "metadata": {},
   "source": [
    "## Problema 3\n",
    "\n",
    "A imagem a seguir representa os usuários de uma rede social e suas conexões. Deseja-se a partir de um usuário da rede descobrir quantos parentes ele está conectado diretamente e indiretamente. Além disso, deseja-se saber a que distância está o parente mais próximo dele. Sabendo que você tem uma lista de pessoas consideradas parentes. Aplique um algoritmo que dê as informações desejadas. O seu algoritmo deve receber a lista de parentes e o grafo da rede social. Como retorno, ele deve retornar quais  parentes estão conectados a ele, quem é o parente mais próximo e sua distância. Lembrando que distância é o número de conexões. \n",
    "\n",
    "<img src=\"https://data2learning.com/static_imgs/grafos_img2.png\" width=\"40%\" />\n"
   ]
  },
  {
   "cell_type": "code",
   "execution_count": 83,
   "metadata": {},
   "outputs": [
    {
     "data": {
      "image/png": "[encoded data removed]",
      "text/plain": [
       "<Figure size 432x288 with 1 Axes>"
      ]
     },
     "metadata": {},
     "output_type": "display_data"
    }
   ],
   "source": [
    "# Instanciando o objeto Grafo\n",
    "G3 = nx.Graph()\n",
    "\n",
    "# Adicionando os Vértices\n",
    "G3.add_nodes_from([\"P1\",\"P2\",\"P3\",\"P4\",\"P5\",\"P6\",\"P7\",\"P8\",\"P9\",\"P10\",\"P11\",\"P12\",\"P13\",\"P14\",\"P15\",\"P16\",\"P17\",\"P18\"])\n",
    "\n",
    "# Adicionando as Arestas\n",
    "G3.add_edge(\"P1\",\"P2\")\n",
    "G3.add_edge(\"P1\",\"P4\")\n",
    "G3.add_edge(\"P2\",\"P4\")\n",
    "G3.add_edge(\"P3\",\"P4\")\n",
    "G3.add_edge(\"P3\",\"P5\")\n",
    "G3.add_edge(\"P3\",\"P6\")\n",
    "G3.add_edge(\"P4\",\"P6\")\n",
    "G3.add_edge(\"P5\",\"P6\")\n",
    "G3.add_edge(\"P6\",\"P12\")\n",
    "G3.add_edge(\"P7\",\"P8\")\n",
    "G3.add_edge(\"P7\",\"P9\")\n",
    "G3.add_edge(\"P8\",\"P9\")\n",
    "G3.add_edge(\"P10\",\"P11\")\n",
    "G3.add_edge(\"P10\",\"P12\")\n",
    "G3.add_edge(\"P11\",\"P12\")\n",
    "G3.add_edge(\"P11\",\"P13\")\n",
    "G3.add_edge(\"P12\",\"P14\")\n",
    "G3.add_edge(\"P13\",\"P14\")\n",
    "G3.add_edge(\"P15\",\"P16\")\n",
    "G3.add_edge(\"P15\",\"P17\")\n",
    "G3.add_edge(\"P16\",\"P17\")\n",
    "G3.add_edge(\"P17\",\"P18\")\n",
    "\n",
    "exibir_grafo_q3(G3)\n"
   ]
  },
  {
   "cell_type": "markdown",
   "metadata": {},
   "source": [
    "*Explique qual algoritmo vocês vão utilizaar para resolver o problema e quais modificações serão feitas se necessário*"
   ]
  },
  {
   "cell_type": "code",
   "execution_count": 77,
   "metadata": {},
   "outputs": [],
   "source": [
    "# Copie e cole nessa célula o algoritmo que será utilizado. Modifique-o e indique as linhas que serão modificadas.\n"
   ]
  },
  {
   "cell_type": "code",
   "execution_count": 78,
   "metadata": {},
   "outputs": [],
   "source": [
    "# Aplique o algoritmo ao grafo G3 e mostre o resultado. "
   ]
  },
  {
   "cell_type": "markdown",
   "metadata": {},
   "source": [
    "## Problema 4\n",
    "\n",
    "Um grupo de estudantes está construindo um grafo para representar o caminho de um robô. A proposta do robô é que ele percorra todos os vértices, sem repetir arestas e retorne para o vértice de origem. No entanto, eles estão com algumas dúvidas em sua construção. A imagem a seguir mostra o grafo que eles estão querendo criar. **Os vértices X1, X2, X3 e X4 juntamente com as arestas pontilhadas ainda não foram adicionados ao grafo**. \n",
    "\n",
    "Por uma questão de limitação do robô, eles só podem adicionar mais dois vértices. A dúvida é: quais vértices eles devem adicionar para garantir o objetivo inicial? Sabendo disso, indique quais vértices devem ser adicionados ao grafo e explique porque. Em seguida, escolha o algoritmo apropriado para resolver esse problema e aplique ao grafo. Ao final, informe qual o caminho que o robô deve seguir para atingir o objetivo do problema.\n",
    "\n",
    "<img src=\"https://data2learning.com/static_imgs/grafos_img4.png\" />\n",
    "\n"
   ]
  },
  {
   "cell_type": "code",
   "execution_count": 99,
   "metadata": {},
   "outputs": [
    {
     "data": {
      "image/png": "[encoded data removed]",
      "text/plain": [
       "<Figure size 432x288 with 1 Axes>"
      ]
     },
     "metadata": {},
     "output_type": "display_data"
    }
   ],
   "source": [
    "# Instanciando o objeto Grafo\n",
    "G4 = nx.Graph()\n",
    "\n",
    "# Adicionando os Vértices\n",
    "G4.add_nodes_from([\"A\",\"B\",\"C\",\"D\",\"E\",\"F\",\"G\",\"H\",\"I\",\"J\"])\n",
    "\n",
    "# Adicionando as Arestas\n",
    "G4.add_edge(\"A\",\"B\")\n",
    "G4.add_edge(\"A\",\"D\")\n",
    "G4.add_edge(\"A\",\"H\")\n",
    "G4.add_edge(\"B\",\"C\")\n",
    "G4.add_edge(\"C\",\"D\")\n",
    "G4.add_edge(\"D\",\"E\")\n",
    "G4.add_edge(\"E\",\"F\")\n",
    "G4.add_edge(\"E\",\"G\")\n",
    "G4.add_edge(\"F\",\"G\")\n",
    "G4.add_edge(\"G\",\"H\")\n",
    "G4.add_edge(\"H\",\"I\")\n",
    "G4.add_edge(\"H\",\"J\")\n",
    "G4.add_edge(\"I\",\"J\")\n",
    "\n",
    "\n",
    "exibir_grafo_q4(G4)\n"
   ]
  },
  {
   "cell_type": "markdown",
   "metadata": {},
   "source": [
    "Utilize a função `adiciona_vertice_q4` para adicionar o vértices ao grafo. Por exemplo, se eu quiser adicionar `X1`, `X2`, `X3` e `X4` ao grafo G4, chamaria a função da seguinte forma: \n",
    "\n",
    "```python\n",
    "adiciona_vertices_q4(G4,['X1','X2','X3','X4'])\n",
    "```"
   ]
  },
  {
   "cell_type": "code",
   "execution_count": 100,
   "metadata": {},
   "outputs": [],
   "source": [
    "def adiciona_vertices_q4(grafo, vertices):\n",
    "    for v in vertices: \n",
    "        if v == 'X1': \n",
    "            grafo.add_edge(\"X1\",\"A\")\n",
    "            grafo.add_edge(\"X1\",\"D\")\n",
    "        \n",
    "        if v == 'X2':\n",
    "            grafo.add_edge(\"X2\",\"D\")\n",
    "            grafo.add_edge(\"X2\",\"E\")\n",
    "\n",
    "        if v == 'X3':\n",
    "            grafo.add_edge(\"X3\",\"E\")\n",
    "            grafo.add_edge(\"X3\",\"G\")\n",
    "\n",
    "        if v == 'X4':\n",
    "            grafo.add_edge(\"X4\",\"H\")\n",
    "            grafo.add_edge(\"X4\",\"J\")"
   ]
  },
  {
   "cell_type": "markdown",
   "metadata": {},
   "source": [
    "*Explique quais vértices devem ser adicionados e porque.*"
   ]
  },
  {
   "cell_type": "code",
   "execution_count": 102,
   "metadata": {},
   "outputs": [],
   "source": [
    "# Chame a função passando os vértices que devem ser adicionados para atingir o objetivo do problema"
   ]
  },
  {
   "cell_type": "markdown",
   "metadata": {},
   "source": [
    "*Explique qual algoritmo deve ser aplicado e como ele resolve o problema analisado.* "
   ]
  },
  {
   "cell_type": "code",
   "execution_count": 103,
   "metadata": {},
   "outputs": [],
   "source": [
    "# Cole o código do algoritmo e se necessário faça as modificações. Indique onde aconteceram as modificações. "
   ]
  },
  {
   "cell_type": "code",
   "execution_count": 104,
   "metadata": {},
   "outputs": [],
   "source": [
    "# Aplique o algoritmo ao Grafo G4 e dê como resultado o caminho que o robô deve percorrer."
   ]
  },
  {
   "cell_type": "markdown",
   "metadata": {},
   "source": [
    "É isso. Durante a semana vocês vão receber a questão final para completar a atividade prática. \n",
    "\n",
    "<img src=\"https://media.giphy.com/media/26DN48mfu3uWJ3J7y/giphy.gif\" /> "
   ]
  }
 ],
 "metadata": {
  "interpreter": {
   "hash": "22f6bab55def2cab2159870198438f46de8e190d709b22092e52c9a14574a288"
  },
  "kernelspec": {
   "display_name": "Python 3.9.7 ('base')",
   "language": "python",
   "name": "python3"
  },
  "language_info": {
   "codemirror_mode": {
    "name": "ipython",
    "version": 3
   },
   "file_extension": ".py",
   "mimetype": "text/x-python",
   "name": "python",
   "nbconvert_exporter": "python",
   "pygments_lexer": "ipython3",
   "version": "3.9.7"
  },
  "orig_nbformat": 4
 },
 "nbformat": 4,
 "nbformat_minor": 2
}
